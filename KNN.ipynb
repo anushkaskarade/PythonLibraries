{
 "cells": [
  {
   "cell_type": "code",
   "execution_count": 28,
   "id": "8e396bc3-6d89-4129-809a-51683f4f1a3d",
   "metadata": {},
   "outputs": [
    {
     "data": {
      "text/html": [
       "<div>\n",
       "<style scoped>\n",
       "    .dataframe tbody tr th:only-of-type {\n",
       "        vertical-align: middle;\n",
       "    }\n",
       "\n",
       "    .dataframe tbody tr th {\n",
       "        vertical-align: top;\n",
       "    }\n",
       "\n",
       "    .dataframe thead th {\n",
       "        text-align: right;\n",
       "    }\n",
       "</style>\n",
       "<table border=\"1\" class=\"dataframe\">\n",
       "  <thead>\n",
       "    <tr style=\"text-align: right;\">\n",
       "      <th></th>\n",
       "      <th>PaperCode</th>\n",
       "      <th>GEN</th>\n",
       "      <th>OBC</th>\n",
       "      <th>SC/ST</th>\n",
       "      <th>Scope_to_qualify</th>\n",
       "    </tr>\n",
       "  </thead>\n",
       "  <tbody>\n",
       "    <tr>\n",
       "      <th>0</th>\n",
       "      <td>XL</td>\n",
       "      <td>31.7</td>\n",
       "      <td>28.5</td>\n",
       "      <td>21.1</td>\n",
       "      <td>1</td>\n",
       "    </tr>\n",
       "    <tr>\n",
       "      <th>1</th>\n",
       "      <td>CE</td>\n",
       "      <td>32.9</td>\n",
       "      <td>29.6</td>\n",
       "      <td>21.9</td>\n",
       "      <td>0</td>\n",
       "    </tr>\n",
       "    <tr>\n",
       "      <th>2</th>\n",
       "      <td>EE</td>\n",
       "      <td>33.4</td>\n",
       "      <td>30.0</td>\n",
       "      <td>22.2</td>\n",
       "      <td>1</td>\n",
       "    </tr>\n",
       "    <tr>\n",
       "      <th>3</th>\n",
       "      <td>CS</td>\n",
       "      <td>28.5</td>\n",
       "      <td>25.6</td>\n",
       "      <td>20.0</td>\n",
       "      <td>1</td>\n",
       "    </tr>\n",
       "    <tr>\n",
       "      <th>4</th>\n",
       "      <td>ME</td>\n",
       "      <td>34.0</td>\n",
       "      <td>30.6</td>\n",
       "      <td>22.6</td>\n",
       "      <td>0</td>\n",
       "    </tr>\n",
       "  </tbody>\n",
       "</table>\n",
       "</div>"
      ],
      "text/plain": [
       "  PaperCode   GEN   OBC  SC/ST  Scope_to_qualify\n",
       "0        XL  31.7  28.5   21.1                 1\n",
       "1        CE  32.9  29.6   21.9                 0\n",
       "2        EE  33.4  30.0   22.2                 1\n",
       "3        CS  28.5  25.6   20.0                 1\n",
       "4        ME  34.0  30.6   22.6                 0"
      ]
     },
     "execution_count": 28,
     "metadata": {},
     "output_type": "execute_result"
    }
   ],
   "source": [
    "import numpy as pd\n",
    "import pandas as pd\n",
    "#Making dataset1\n",
    "Gate_cutoff={\n",
    "             'PaperCode':['XL','CE','EE','CS','ME'],\n",
    "              'GEN':[31.70,32.90,33.40,28.50,34.00],\n",
    "              'OBC':[28.50,29.60,30.00,25.60,30.60],\n",
    "              'SC/ST':[21.10,21.90,22.20,20.00,22.60],\t\n",
    "              'Scope_to_qualify':[1,0,1,1,0],\n",
    "              \n",
    "        }\n",
    "Data1=pd.DataFrame(Gate_cutoff)\n",
    "Data1"
   ]
  },
  {
   "cell_type": "code",
   "execution_count": 29,
   "id": "4a596b2e-6f26-4705-b929-c9cbf4538347",
   "metadata": {},
   "outputs": [
    {
     "data": {
      "text/html": [
       "<div>\n",
       "<style scoped>\n",
       "    .dataframe tbody tr th:only-of-type {\n",
       "        vertical-align: middle;\n",
       "    }\n",
       "\n",
       "    .dataframe tbody tr th {\n",
       "        vertical-align: top;\n",
       "    }\n",
       "\n",
       "    .dataframe thead th {\n",
       "        text-align: right;\n",
       "    }\n",
       "</style>\n",
       "<table border=\"1\" class=\"dataframe\">\n",
       "  <thead>\n",
       "    <tr style=\"text-align: right;\">\n",
       "      <th></th>\n",
       "      <th>GEN</th>\n",
       "      <th>OBC</th>\n",
       "      <th>SC/ST</th>\n",
       "      <th>Scope_to_qualify</th>\n",
       "    </tr>\n",
       "  </thead>\n",
       "  <tbody>\n",
       "    <tr>\n",
       "      <th>0</th>\n",
       "      <td>31.7</td>\n",
       "      <td>28.5</td>\n",
       "      <td>21.1</td>\n",
       "      <td>1</td>\n",
       "    </tr>\n",
       "    <tr>\n",
       "      <th>1</th>\n",
       "      <td>32.9</td>\n",
       "      <td>29.6</td>\n",
       "      <td>21.9</td>\n",
       "      <td>0</td>\n",
       "    </tr>\n",
       "    <tr>\n",
       "      <th>2</th>\n",
       "      <td>33.4</td>\n",
       "      <td>30.0</td>\n",
       "      <td>22.2</td>\n",
       "      <td>1</td>\n",
       "    </tr>\n",
       "    <tr>\n",
       "      <th>3</th>\n",
       "      <td>28.5</td>\n",
       "      <td>25.6</td>\n",
       "      <td>20.0</td>\n",
       "      <td>1</td>\n",
       "    </tr>\n",
       "    <tr>\n",
       "      <th>4</th>\n",
       "      <td>34.0</td>\n",
       "      <td>30.6</td>\n",
       "      <td>22.6</td>\n",
       "      <td>0</td>\n",
       "    </tr>\n",
       "  </tbody>\n",
       "</table>\n",
       "</div>"
      ],
      "text/plain": [
       "    GEN   OBC  SC/ST  Scope_to_qualify\n",
       "0  31.7  28.5   21.1                 1\n",
       "1  32.9  29.6   21.9                 0\n",
       "2  33.4  30.0   22.2                 1\n",
       "3  28.5  25.6   20.0                 1\n",
       "4  34.0  30.6   22.6                 0"
      ]
     },
     "execution_count": 29,
     "metadata": {},
     "output_type": "execute_result"
    }
   ],
   "source": [
    "Data1=Data1.drop('PaperCode',axis=1)\n",
    "Data1"
   ]
  },
  {
   "cell_type": "code",
   "execution_count": 30,
   "id": "a37d4bce-b8ce-40f2-9a6f-986e75d3da87",
   "metadata": {},
   "outputs": [],
   "source": [
    "#Saving the file in the csv file\n",
    "Data1.to_csv(\"Gate_cutoff.csv\")"
   ]
  },
  {
   "cell_type": "code",
   "execution_count": 31,
   "id": "68505b16-fcc6-4f73-b2ea-ca2c147af31f",
   "metadata": {},
   "outputs": [
    {
     "data": {
      "text/html": [
       "<div>\n",
       "<style scoped>\n",
       "    .dataframe tbody tr th:only-of-type {\n",
       "        vertical-align: middle;\n",
       "    }\n",
       "\n",
       "    .dataframe tbody tr th {\n",
       "        vertical-align: top;\n",
       "    }\n",
       "\n",
       "    .dataframe thead th {\n",
       "        text-align: right;\n",
       "    }\n",
       "</style>\n",
       "<table border=\"1\" class=\"dataframe\">\n",
       "  <thead>\n",
       "    <tr style=\"text-align: right;\">\n",
       "      <th></th>\n",
       "      <th>GEN</th>\n",
       "      <th>OBC</th>\n",
       "      <th>SC/ST</th>\n",
       "    </tr>\n",
       "  </thead>\n",
       "  <tbody>\n",
       "    <tr>\n",
       "      <th>0</th>\n",
       "      <td>30.0</td>\n",
       "      <td>28.0</td>\n",
       "      <td>20.0</td>\n",
       "    </tr>\n",
       "  </tbody>\n",
       "</table>\n",
       "</div>"
      ],
      "text/plain": [
       "    GEN   OBC  SC/ST\n",
       "0  30.0  28.0   20.0"
      ]
     },
     "execution_count": 31,
     "metadata": {},
     "output_type": "execute_result"
    }
   ],
   "source": [
    "#Making new dataset2\n",
    "new_cutoff={\n",
    "             'GEN':[30.00],\n",
    "             'OBC':[28.00],\n",
    "             'SC/ST':[20.00],\n",
    "             \n",
    "        }\n",
    "Data2=pd.DataFrame(new_cutoff)\n",
    "Data2\n"
   ]
  },
  {
   "cell_type": "code",
   "execution_count": 52,
   "id": "830b9f6a-dd79-4296-bcf3-f48d3a8ec94c",
   "metadata": {},
   "outputs": [],
   "source": [
    "distances=[]"
   ]
  },
  {
   "cell_type": "code",
   "execution_count": 53,
   "id": "bd866b77-5530-45f9-a604-7311da78a23a",
   "metadata": {},
   "outputs": [
    {
     "name": "stdout",
     "output_type": "stream",
     "text": [
      "13.354774427147769\n",
      "Index: 0, Distance: 13.354774427147769\n",
      "18.81967056034722\n",
      "Index: 1, Distance: 18.81967056034722\n",
      "20.600970850908944\n",
      "Index: 2, Distance: 20.600970850908944\n",
      "nan\n",
      "Index: 3, Distance: nan\n",
      "22.784205055257033\n",
      "Index: 4, Distance: 22.784205055257033\n"
     ]
    },
    {
     "name": "stderr",
     "output_type": "stream",
     "text": [
      "C:\\Users\\Anushka\\AppData\\Local\\Temp\\ipykernel_19128\\1731882031.py:3: RuntimeWarning: invalid value encountered in sqrt\n",
      "  distance=np.sqrt((Data1.iloc[i,0]**2-Data2.iloc[0,0]**2)+\n"
     ]
    }
   ],
   "source": [
    "import numpy as np\n",
    "for i in range(len(Data1)):\n",
    "  distance=np.sqrt((Data1.iloc[i,0]**2-Data2.iloc[0,0]**2)+\n",
    "                 (Data1.iloc[i,1]**2-Data2.iloc[0,1]**2)+\n",
    "                 (Data1.iloc[i,2]**2-Data2.iloc[0,2]**2))\n",
    "  print(distance)\n",
    "  print(f\"Index: {i}, Distance: {distance}\")\n",
    "  distances.append(distance)\n",
    " "
   ]
  },
  {
   "cell_type": "code",
   "execution_count": 56,
   "id": "ffb31557-f553-4832-af99-e993c0947e31",
   "metadata": {},
   "outputs": [
    {
     "name": "stdout",
     "output_type": "stream",
     "text": [
      "[np.float64(13.354774427147769), np.float64(18.81967056034722), np.float64(20.600970850908944), np.float64(nan), np.float64(22.784205055257033)]\n"
     ]
    },
    {
     "data": {
      "text/html": [
       "<div>\n",
       "<style scoped>\n",
       "    .dataframe tbody tr th:only-of-type {\n",
       "        vertical-align: middle;\n",
       "    }\n",
       "\n",
       "    .dataframe tbody tr th {\n",
       "        vertical-align: top;\n",
       "    }\n",
       "\n",
       "    .dataframe thead th {\n",
       "        text-align: right;\n",
       "    }\n",
       "</style>\n",
       "<table border=\"1\" class=\"dataframe\">\n",
       "  <thead>\n",
       "    <tr style=\"text-align: right;\">\n",
       "      <th></th>\n",
       "      <th>GEN</th>\n",
       "      <th>OBC</th>\n",
       "      <th>SC/ST</th>\n",
       "      <th>Scope_to_qualify</th>\n",
       "      <th>Distance</th>\n",
       "    </tr>\n",
       "  </thead>\n",
       "  <tbody>\n",
       "    <tr>\n",
       "      <th>0</th>\n",
       "      <td>31.7</td>\n",
       "      <td>28.5</td>\n",
       "      <td>21.1</td>\n",
       "      <td>1</td>\n",
       "      <td>13.354774</td>\n",
       "    </tr>\n",
       "    <tr>\n",
       "      <th>1</th>\n",
       "      <td>32.9</td>\n",
       "      <td>29.6</td>\n",
       "      <td>21.9</td>\n",
       "      <td>0</td>\n",
       "      <td>18.819671</td>\n",
       "    </tr>\n",
       "    <tr>\n",
       "      <th>2</th>\n",
       "      <td>33.4</td>\n",
       "      <td>30.0</td>\n",
       "      <td>22.2</td>\n",
       "      <td>1</td>\n",
       "      <td>20.600971</td>\n",
       "    </tr>\n",
       "    <tr>\n",
       "      <th>3</th>\n",
       "      <td>28.5</td>\n",
       "      <td>25.6</td>\n",
       "      <td>20.0</td>\n",
       "      <td>1</td>\n",
       "      <td>NaN</td>\n",
       "    </tr>\n",
       "    <tr>\n",
       "      <th>4</th>\n",
       "      <td>34.0</td>\n",
       "      <td>30.6</td>\n",
       "      <td>22.6</td>\n",
       "      <td>0</td>\n",
       "      <td>22.784205</td>\n",
       "    </tr>\n",
       "  </tbody>\n",
       "</table>\n",
       "</div>"
      ],
      "text/plain": [
       "    GEN   OBC  SC/ST  Scope_to_qualify   Distance\n",
       "0  31.7  28.5   21.1                 1  13.354774\n",
       "1  32.9  29.6   21.9                 0  18.819671\n",
       "2  33.4  30.0   22.2                 1  20.600971\n",
       "3  28.5  25.6   20.0                 1        NaN\n",
       "4  34.0  30.6   22.6                 0  22.784205"
      ]
     },
     "execution_count": 56,
     "metadata": {},
     "output_type": "execute_result"
    }
   ],
   "source": [
    "print(distances)\n",
    "Data1['Distance']=distances\n",
    "Data1"
   ]
  },
  {
   "cell_type": "code",
   "execution_count": 63,
   "id": "d5e6fcad-fc30-4103-bb78-8b064d7cc4f6",
   "metadata": {},
   "outputs": [
    {
     "data": {
      "text/html": [
       "<div>\n",
       "<style scoped>\n",
       "    .dataframe tbody tr th:only-of-type {\n",
       "        vertical-align: middle;\n",
       "    }\n",
       "\n",
       "    .dataframe tbody tr th {\n",
       "        vertical-align: top;\n",
       "    }\n",
       "\n",
       "    .dataframe thead th {\n",
       "        text-align: right;\n",
       "    }\n",
       "</style>\n",
       "<table border=\"1\" class=\"dataframe\">\n",
       "  <thead>\n",
       "    <tr style=\"text-align: right;\">\n",
       "      <th></th>\n",
       "      <th>GEN</th>\n",
       "      <th>OBC</th>\n",
       "      <th>SC/ST</th>\n",
       "      <th>Scope_to_qualify</th>\n",
       "      <th>Distance</th>\n",
       "    </tr>\n",
       "  </thead>\n",
       "  <tbody>\n",
       "    <tr>\n",
       "      <th>0</th>\n",
       "      <td>31.7</td>\n",
       "      <td>28.5</td>\n",
       "      <td>21.1</td>\n",
       "      <td>1</td>\n",
       "      <td>13.354774</td>\n",
       "    </tr>\n",
       "    <tr>\n",
       "      <th>1</th>\n",
       "      <td>32.9</td>\n",
       "      <td>29.6</td>\n",
       "      <td>21.9</td>\n",
       "      <td>0</td>\n",
       "      <td>18.819671</td>\n",
       "    </tr>\n",
       "    <tr>\n",
       "      <th>2</th>\n",
       "      <td>33.4</td>\n",
       "      <td>30.0</td>\n",
       "      <td>22.2</td>\n",
       "      <td>1</td>\n",
       "      <td>20.600971</td>\n",
       "    </tr>\n",
       "    <tr>\n",
       "      <th>4</th>\n",
       "      <td>34.0</td>\n",
       "      <td>30.6</td>\n",
       "      <td>22.6</td>\n",
       "      <td>0</td>\n",
       "      <td>22.784205</td>\n",
       "    </tr>\n",
       "    <tr>\n",
       "      <th>3</th>\n",
       "      <td>28.5</td>\n",
       "      <td>25.6</td>\n",
       "      <td>20.0</td>\n",
       "      <td>1</td>\n",
       "      <td>NaN</td>\n",
       "    </tr>\n",
       "  </tbody>\n",
       "</table>\n",
       "</div>"
      ],
      "text/plain": [
       "    GEN   OBC  SC/ST  Scope_to_qualify   Distance\n",
       "0  31.7  28.5   21.1                 1  13.354774\n",
       "1  32.9  29.6   21.9                 0  18.819671\n",
       "2  33.4  30.0   22.2                 1  20.600971\n",
       "4  34.0  30.6   22.6                 0  22.784205\n",
       "3  28.5  25.6   20.0                 1        NaN"
      ]
     },
     "execution_count": 63,
     "metadata": {},
     "output_type": "execute_result"
    }
   ],
   "source": [
    "Data1_sorted=Data1.sort_values(by='Distance')\n",
    "Data1_sorted"
   ]
  },
  {
   "cell_type": "code",
   "execution_count": 66,
   "id": "ca0e2735-e309-4631-8010-d0749d08db52",
   "metadata": {},
   "outputs": [
    {
     "name": "stdout",
     "output_type": "stream",
     "text": [
      "Enter the value for k:\n"
     ]
    },
    {
     "name": "stdin",
     "output_type": "stream",
     "text": [
      " 3\n"
     ]
    }
   ],
   "source": [
    "print('Enter the value for k:')\n",
    "k=input()\n"
   ]
  },
  {
   "cell_type": "code",
   "execution_count": 81,
   "id": "32a1425c-df4d-4d39-9d7c-eccd4e9dc43f",
   "metadata": {},
   "outputs": [
    {
     "name": "stdout",
     "output_type": "stream",
     "text": [
      "Nearest neighbors are:\n",
      "    GEN   OBC  SC/ST  Scope_to_qualify   Distance\n",
      "0  31.7  28.5   21.1                 1  13.354774\n",
      "1  32.9  29.6   21.9                 0  18.819671\n",
      "2  33.4  30.0   22.2                 1  20.600971\n"
     ]
    }
   ],
   "source": [
    "k_nearest_neighbor=Data1_sorted.head(k)\n",
    "print('Nearest neighbors are:')\n",
    "print(k_nearest_neighbor)"
   ]
  },
  {
   "cell_type": "code",
   "execution_count": 80,
   "id": "38cfa473-eb90-4456-b9c0-45e8be65605b",
   "metadata": {},
   "outputs": [
    {
     "name": "stdout",
     "output_type": "stream",
     "text": [
      "The predicted scope for qualifying Gate exam is:\n",
      "1\n"
     ]
    }
   ],
   "source": [
    "count=k_nearest_neighbor['Scope_to_qualify'].value_counts()\n",
    "predicted_Scope_to_qualify=count.idxmax()\n",
    "print('The predicted scope for qualifying Gate exam is:')\n",
    "print(predicted_Scope_to_qualify)"
   ]
  },
  {
   "cell_type": "code",
   "execution_count": null,
   "id": "6184f8d7-c600-4530-aa04-a99cafbd600c",
   "metadata": {},
   "outputs": [],
   "source": []
  }
 ],
 "metadata": {
  "kernelspec": {
   "display_name": "Python 3 (ipykernel)",
   "language": "python",
   "name": "python3"
  },
  "language_info": {
   "codemirror_mode": {
    "name": "ipython",
    "version": 3
   },
   "file_extension": ".py",
   "mimetype": "text/x-python",
   "name": "python",
   "nbconvert_exporter": "python",
   "pygments_lexer": "ipython3",
   "version": "3.12.4"
  }
 },
 "nbformat": 4,
 "nbformat_minor": 5
}
