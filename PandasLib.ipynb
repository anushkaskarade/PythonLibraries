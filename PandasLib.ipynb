{
 "cells": [
  {
   "cell_type": "code",
   "execution_count": 33,
   "id": "f11f1d56-a5cf-4491-b551-7e58855604b5",
   "metadata": {},
   "outputs": [
    {
     "data": {
      "text/html": [
       "<div>\n",
       "<style scoped>\n",
       "    .dataframe tbody tr th:only-of-type {\n",
       "        vertical-align: middle;\n",
       "    }\n",
       "\n",
       "    .dataframe tbody tr th {\n",
       "        vertical-align: top;\n",
       "    }\n",
       "\n",
       "    .dataframe thead th {\n",
       "        text-align: right;\n",
       "    }\n",
       "</style>\n",
       "<table border=\"1\" class=\"dataframe\">\n",
       "  <thead>\n",
       "    <tr style=\"text-align: right;\">\n",
       "      <th></th>\n",
       "      <th>Name</th>\n",
       "      <th>Marks</th>\n",
       "      <th>City</th>\n",
       "    </tr>\n",
       "  </thead>\n",
       "  <tbody>\n",
       "    <tr>\n",
       "      <th>0</th>\n",
       "      <td>Anushka</td>\n",
       "      <td>95</td>\n",
       "      <td>Ichakaranji</td>\n",
       "    </tr>\n",
       "    <tr>\n",
       "      <th>1</th>\n",
       "      <td>Rutuja</td>\n",
       "      <td>80</td>\n",
       "      <td>Pune</td>\n",
       "    </tr>\n",
       "    <tr>\n",
       "      <th>2</th>\n",
       "      <td>Aditya</td>\n",
       "      <td>78</td>\n",
       "      <td>Ichalkaranji</td>\n",
       "    </tr>\n",
       "    <tr>\n",
       "      <th>3</th>\n",
       "      <td>Riya</td>\n",
       "      <td>90</td>\n",
       "      <td>Kolhapur</td>\n",
       "    </tr>\n",
       "  </tbody>\n",
       "</table>\n",
       "</div>"
      ],
      "text/plain": [
       "      Name  Marks          City\n",
       "0  Anushka     95   Ichakaranji\n",
       "1   Rutuja     80          Pune\n",
       "2   Aditya     78  Ichalkaranji\n",
       "3     Riya     90      Kolhapur"
      ]
     },
     "execution_count": 33,
     "metadata": {},
     "output_type": "execute_result"
    }
   ],
   "source": [
    "#Making a directory\n",
    "import numpy as np\n",
    "import pandas as pd\n",
    "dict1={ \"Name\":['Anushka','Rutuja','Aditya','Riya'],\n",
    "         \"Marks\":[95,80,78,90],\n",
    "         \"City\":['Ichakaranji','Pune','Ichalkaranji','Kolhapur',],\n",
    "}\n",
    "df=pd.DataFrame(dict1)\n",
    "df"
   ]
  },
  {
   "cell_type": "code",
   "execution_count": 34,
   "id": "4c0caf61-3571-4d87-8bf7-08af40d1a6d2",
   "metadata": {},
   "outputs": [
    {
     "data": {
      "text/html": [
       "<div>\n",
       "<style scoped>\n",
       "    .dataframe tbody tr th:only-of-type {\n",
       "        vertical-align: middle;\n",
       "    }\n",
       "\n",
       "    .dataframe tbody tr th {\n",
       "        vertical-align: top;\n",
       "    }\n",
       "\n",
       "    .dataframe thead th {\n",
       "        text-align: right;\n",
       "    }\n",
       "</style>\n",
       "<table border=\"1\" class=\"dataframe\">\n",
       "  <thead>\n",
       "    <tr style=\"text-align: right;\">\n",
       "      <th></th>\n",
       "      <th>Name</th>\n",
       "      <th>Marks</th>\n",
       "      <th>City</th>\n",
       "    </tr>\n",
       "  </thead>\n",
       "  <tbody>\n",
       "    <tr>\n",
       "      <th>0</th>\n",
       "      <td>Anushka</td>\n",
       "      <td>95</td>\n",
       "      <td>Ichakaranji</td>\n",
       "    </tr>\n",
       "    <tr>\n",
       "      <th>1</th>\n",
       "      <td>Rutuja</td>\n",
       "      <td>80</td>\n",
       "      <td>Pune</td>\n",
       "    </tr>\n",
       "  </tbody>\n",
       "</table>\n",
       "</div>"
      ],
      "text/plain": [
       "      Name  Marks         City\n",
       "0  Anushka     95  Ichakaranji\n",
       "1   Rutuja     80         Pune"
      ]
     },
     "execution_count": 34,
     "metadata": {},
     "output_type": "execute_result"
    }
   ],
   "source": [
    "#converting dataframe into XlSheet or csv file\n",
    "df.to_csv('Info.csv')\n",
    "df.head(2) # printing first two rows of dataframe"
   ]
  },
  {
   "cell_type": "code",
   "execution_count": 35,
   "id": "aab1c2c9-faf8-4f72-97fc-bb2d7fc5ef34",
   "metadata": {},
   "outputs": [
    {
     "data": {
      "text/html": [
       "<div>\n",
       "<style scoped>\n",
       "    .dataframe tbody tr th:only-of-type {\n",
       "        vertical-align: middle;\n",
       "    }\n",
       "\n",
       "    .dataframe tbody tr th {\n",
       "        vertical-align: top;\n",
       "    }\n",
       "\n",
       "    .dataframe thead th {\n",
       "        text-align: right;\n",
       "    }\n",
       "</style>\n",
       "<table border=\"1\" class=\"dataframe\">\n",
       "  <thead>\n",
       "    <tr style=\"text-align: right;\">\n",
       "      <th></th>\n",
       "      <th>Name</th>\n",
       "      <th>Marks</th>\n",
       "      <th>City</th>\n",
       "    </tr>\n",
       "  </thead>\n",
       "  <tbody>\n",
       "    <tr>\n",
       "      <th>2</th>\n",
       "      <td>Aditya</td>\n",
       "      <td>78</td>\n",
       "      <td>Ichalkaranji</td>\n",
       "    </tr>\n",
       "    <tr>\n",
       "      <th>3</th>\n",
       "      <td>Riya</td>\n",
       "      <td>90</td>\n",
       "      <td>Kolhapur</td>\n",
       "    </tr>\n",
       "  </tbody>\n",
       "</table>\n",
       "</div>"
      ],
      "text/plain": [
       "     Name  Marks          City\n",
       "2  Aditya     78  Ichalkaranji\n",
       "3    Riya     90      Kolhapur"
      ]
     },
     "execution_count": 35,
     "metadata": {},
     "output_type": "execute_result"
    }
   ],
   "source": [
    "#Printing last two rows of dataframe\n",
    "df.tail(2)"
   ]
  },
  {
   "cell_type": "code",
   "execution_count": 36,
   "id": "5ddd18a6-9a2c-4631-a35d-de0e3b490585",
   "metadata": {},
   "outputs": [],
   "source": [
    "#if we don't want index in the sheet\n",
    "df.to_csv('Info_index_false.csv',index=False)"
   ]
  },
  {
   "cell_type": "code",
   "execution_count": 17,
   "id": "92afaba5-3a56-4ada-9389-dfdbe29a2344",
   "metadata": {},
   "outputs": [
    {
     "data": {
      "text/html": [
       "<div>\n",
       "<style scoped>\n",
       "    .dataframe tbody tr th:only-of-type {\n",
       "        vertical-align: middle;\n",
       "    }\n",
       "\n",
       "    .dataframe tbody tr th {\n",
       "        vertical-align: top;\n",
       "    }\n",
       "\n",
       "    .dataframe thead th {\n",
       "        text-align: right;\n",
       "    }\n",
       "</style>\n",
       "<table border=\"1\" class=\"dataframe\">\n",
       "  <thead>\n",
       "    <tr style=\"text-align: right;\">\n",
       "      <th></th>\n",
       "      <th>Marks</th>\n",
       "    </tr>\n",
       "  </thead>\n",
       "  <tbody>\n",
       "    <tr>\n",
       "      <th>count</th>\n",
       "      <td>4.000000</td>\n",
       "    </tr>\n",
       "    <tr>\n",
       "      <th>mean</th>\n",
       "      <td>85.750000</td>\n",
       "    </tr>\n",
       "    <tr>\n",
       "      <th>std</th>\n",
       "      <td>8.098354</td>\n",
       "    </tr>\n",
       "    <tr>\n",
       "      <th>min</th>\n",
       "      <td>78.000000</td>\n",
       "    </tr>\n",
       "    <tr>\n",
       "      <th>25%</th>\n",
       "      <td>79.500000</td>\n",
       "    </tr>\n",
       "    <tr>\n",
       "      <th>50%</th>\n",
       "      <td>85.000000</td>\n",
       "    </tr>\n",
       "    <tr>\n",
       "      <th>75%</th>\n",
       "      <td>91.250000</td>\n",
       "    </tr>\n",
       "    <tr>\n",
       "      <th>max</th>\n",
       "      <td>95.000000</td>\n",
       "    </tr>\n",
       "  </tbody>\n",
       "</table>\n",
       "</div>"
      ],
      "text/plain": [
       "           Marks\n",
       "count   4.000000\n",
       "mean   85.750000\n",
       "std     8.098354\n",
       "min    78.000000\n",
       "25%    79.500000\n",
       "50%    85.000000\n",
       "75%    91.250000\n",
       "max    95.000000"
      ]
     },
     "execution_count": 17,
     "metadata": {},
     "output_type": "execute_result"
    }
   ],
   "source": [
    "#Printing the mean,count,std,min ,max of numerical data\n",
    "df.describe()"
   ]
  },
  {
   "cell_type": "code",
   "execution_count": 18,
   "id": "5c129015-09fd-4e00-a2d6-80c932cc390b",
   "metadata": {},
   "outputs": [],
   "source": [
    "#Reading the csv file\n",
    "df=pd.read_csv('Info.csv')"
   ]
  },
  {
   "cell_type": "code",
   "execution_count": 37,
   "id": "e307960a-68f9-4ed4-b3b2-cb789257e0cb",
   "metadata": {},
   "outputs": [
    {
     "data": {
      "text/plain": [
       "0    95\n",
       "1    80\n",
       "2    78\n",
       "3    90\n",
       "Name: Marks, dtype: int64"
      ]
     },
     "execution_count": 37,
     "metadata": {},
     "output_type": "execute_result"
    }
   ],
   "source": [
    "#Displaying only one row \"Marks\" in data\n",
    "df['Marks']"
   ]
  },
  {
   "cell_type": "code",
   "execution_count": 21,
   "id": "6bdf509f-d513-47b4-bcc3-15614eaf61e6",
   "metadata": {},
   "outputs": [
    {
     "data": {
      "text/plain": [
       "np.int64(95)"
      ]
     },
     "execution_count": 21,
     "metadata": {},
     "output_type": "execute_result"
    }
   ],
   "source": [
    "#Returns the value stored at index 0\n",
    "df['Marks'][0]"
   ]
  },
  {
   "cell_type": "code",
   "execution_count": 38,
   "id": "1203a976-62eb-4ea0-97c6-c882855e1430",
   "metadata": {},
   "outputs": [
    {
     "name": "stderr",
     "output_type": "stream",
     "text": [
      "C:\\Users\\Anushka\\AppData\\Local\\Temp\\ipykernel_19832\\3277657820.py:2: SettingWithCopyWarning: \n",
      "A value is trying to be set on a copy of a slice from a DataFrame\n",
      "\n",
      "See the caveats in the documentation: https://pandas.pydata.org/pandas-docs/stable/user_guide/indexing.html#returning-a-view-versus-a-copy\n",
      "  df['Marks'][2]=79\n"
     ]
    }
   ],
   "source": [
    "#Change the value at index\n",
    "df['Marks'][2]=79"
   ]
  },
  {
   "cell_type": "code",
   "execution_count": 39,
   "id": "b8de7c79-e308-4055-9cfe-cb4fb842a7bc",
   "metadata": {},
   "outputs": [
    {
     "data": {
      "text/html": [
       "<div>\n",
       "<style scoped>\n",
       "    .dataframe tbody tr th:only-of-type {\n",
       "        vertical-align: middle;\n",
       "    }\n",
       "\n",
       "    .dataframe tbody tr th {\n",
       "        vertical-align: top;\n",
       "    }\n",
       "\n",
       "    .dataframe thead th {\n",
       "        text-align: right;\n",
       "    }\n",
       "</style>\n",
       "<table border=\"1\" class=\"dataframe\">\n",
       "  <thead>\n",
       "    <tr style=\"text-align: right;\">\n",
       "      <th></th>\n",
       "      <th>Name</th>\n",
       "      <th>Marks</th>\n",
       "      <th>City</th>\n",
       "    </tr>\n",
       "  </thead>\n",
       "  <tbody>\n",
       "    <tr>\n",
       "      <th>0</th>\n",
       "      <td>Anushka</td>\n",
       "      <td>95</td>\n",
       "      <td>Ichakaranji</td>\n",
       "    </tr>\n",
       "    <tr>\n",
       "      <th>1</th>\n",
       "      <td>Rutuja</td>\n",
       "      <td>80</td>\n",
       "      <td>Pune</td>\n",
       "    </tr>\n",
       "    <tr>\n",
       "      <th>2</th>\n",
       "      <td>Aditya</td>\n",
       "      <td>79</td>\n",
       "      <td>Ichalkaranji</td>\n",
       "    </tr>\n",
       "    <tr>\n",
       "      <th>3</th>\n",
       "      <td>Riya</td>\n",
       "      <td>90</td>\n",
       "      <td>Kolhapur</td>\n",
       "    </tr>\n",
       "  </tbody>\n",
       "</table>\n",
       "</div>"
      ],
      "text/plain": [
       "      Name  Marks          City\n",
       "0  Anushka     95   Ichakaranji\n",
       "1   Rutuja     80          Pune\n",
       "2   Aditya     79  Ichalkaranji\n",
       "3     Riya     90      Kolhapur"
      ]
     },
     "execution_count": 39,
     "metadata": {},
     "output_type": "execute_result"
    }
   ],
   "source": [
    "df"
   ]
  },
  {
   "cell_type": "code",
   "execution_count": 40,
   "id": "5e2be290-f747-450a-8e7f-428c0d5bea92",
   "metadata": {},
   "outputs": [
    {
     "data": {
      "text/html": [
       "<div>\n",
       "<style scoped>\n",
       "    .dataframe tbody tr th:only-of-type {\n",
       "        vertical-align: middle;\n",
       "    }\n",
       "\n",
       "    .dataframe tbody tr th {\n",
       "        vertical-align: top;\n",
       "    }\n",
       "\n",
       "    .dataframe thead th {\n",
       "        text-align: right;\n",
       "    }\n",
       "</style>\n",
       "<table border=\"1\" class=\"dataframe\">\n",
       "  <thead>\n",
       "    <tr style=\"text-align: right;\">\n",
       "      <th></th>\n",
       "      <th>Name</th>\n",
       "      <th>Marks</th>\n",
       "      <th>City</th>\n",
       "    </tr>\n",
       "  </thead>\n",
       "  <tbody>\n",
       "    <tr>\n",
       "      <th>B</th>\n",
       "      <td>Anushka</td>\n",
       "      <td>95</td>\n",
       "      <td>Ichakaranji</td>\n",
       "    </tr>\n",
       "    <tr>\n",
       "      <th>A</th>\n",
       "      <td>Rutuja</td>\n",
       "      <td>80</td>\n",
       "      <td>Pune</td>\n",
       "    </tr>\n",
       "    <tr>\n",
       "      <th>D</th>\n",
       "      <td>Aditya</td>\n",
       "      <td>79</td>\n",
       "      <td>Ichalkaranji</td>\n",
       "    </tr>\n",
       "    <tr>\n",
       "      <th>C</th>\n",
       "      <td>Riya</td>\n",
       "      <td>90</td>\n",
       "      <td>Kolhapur</td>\n",
       "    </tr>\n",
       "  </tbody>\n",
       "</table>\n",
       "</div>"
      ],
      "text/plain": [
       "      Name  Marks          City\n",
       "B  Anushka     95   Ichakaranji\n",
       "A   Rutuja     80          Pune\n",
       "D   Aditya     79  Ichalkaranji\n",
       "C     Riya     90      Kolhapur"
      ]
     },
     "execution_count": 40,
     "metadata": {},
     "output_type": "execute_result"
    }
   ],
   "source": [
    "df.index={'A','B','C','D'}\n",
    "df"
   ]
  },
  {
   "cell_type": "code",
   "execution_count": 48,
   "id": "e22b04af-368e-4402-9a6d-835bc8691452",
   "metadata": {},
   "outputs": [
    {
     "data": {
      "text/html": [
       "<div>\n",
       "<style scoped>\n",
       "    .dataframe tbody tr th:only-of-type {\n",
       "        vertical-align: middle;\n",
       "    }\n",
       "\n",
       "    .dataframe tbody tr th {\n",
       "        vertical-align: top;\n",
       "    }\n",
       "\n",
       "    .dataframe thead th {\n",
       "        text-align: right;\n",
       "    }\n",
       "</style>\n",
       "<table border=\"1\" class=\"dataframe\">\n",
       "  <thead>\n",
       "    <tr style=\"text-align: right;\">\n",
       "      <th></th>\n",
       "      <th>0</th>\n",
       "      <th>1</th>\n",
       "      <th>2</th>\n",
       "      <th>3</th>\n",
       "      <th>4</th>\n",
       "    </tr>\n",
       "  </thead>\n",
       "  <tbody>\n",
       "    <tr>\n",
       "      <th>0</th>\n",
       "      <td>0.351571</td>\n",
       "      <td>0.202252</td>\n",
       "      <td>0.787317</td>\n",
       "      <td>0.352163</td>\n",
       "      <td>0.581516</td>\n",
       "    </tr>\n",
       "    <tr>\n",
       "      <th>1</th>\n",
       "      <td>0.792170</td>\n",
       "      <td>0.475058</td>\n",
       "      <td>0.041318</td>\n",
       "      <td>0.445682</td>\n",
       "      <td>0.045472</td>\n",
       "    </tr>\n",
       "    <tr>\n",
       "      <th>2</th>\n",
       "      <td>0.034793</td>\n",
       "      <td>0.635065</td>\n",
       "      <td>0.471307</td>\n",
       "      <td>0.368997</td>\n",
       "      <td>0.944136</td>\n",
       "    </tr>\n",
       "    <tr>\n",
       "      <th>3</th>\n",
       "      <td>0.817459</td>\n",
       "      <td>0.472707</td>\n",
       "      <td>0.858723</td>\n",
       "      <td>0.811795</td>\n",
       "      <td>0.354157</td>\n",
       "    </tr>\n",
       "    <tr>\n",
       "      <th>4</th>\n",
       "      <td>0.955933</td>\n",
       "      <td>0.765625</td>\n",
       "      <td>0.487398</td>\n",
       "      <td>0.178853</td>\n",
       "      <td>0.466840</td>\n",
       "    </tr>\n",
       "    <tr>\n",
       "      <th>5</th>\n",
       "      <td>0.798857</td>\n",
       "      <td>0.335233</td>\n",
       "      <td>0.377882</td>\n",
       "      <td>0.606153</td>\n",
       "      <td>0.274588</td>\n",
       "    </tr>\n",
       "    <tr>\n",
       "      <th>6</th>\n",
       "      <td>0.823107</td>\n",
       "      <td>0.443695</td>\n",
       "      <td>0.805453</td>\n",
       "      <td>0.262356</td>\n",
       "      <td>0.968795</td>\n",
       "    </tr>\n",
       "    <tr>\n",
       "      <th>7</th>\n",
       "      <td>0.600834</td>\n",
       "      <td>0.107140</td>\n",
       "      <td>0.874345</td>\n",
       "      <td>0.142726</td>\n",
       "      <td>0.463220</td>\n",
       "    </tr>\n",
       "    <tr>\n",
       "      <th>8</th>\n",
       "      <td>0.994582</td>\n",
       "      <td>0.412037</td>\n",
       "      <td>0.340390</td>\n",
       "      <td>0.495975</td>\n",
       "      <td>0.236287</td>\n",
       "    </tr>\n",
       "    <tr>\n",
       "      <th>9</th>\n",
       "      <td>0.962827</td>\n",
       "      <td>0.707807</td>\n",
       "      <td>0.442519</td>\n",
       "      <td>0.324526</td>\n",
       "      <td>0.810306</td>\n",
       "    </tr>\n",
       "  </tbody>\n",
       "</table>\n",
       "</div>"
      ],
      "text/plain": [
       "          0         1         2         3         4\n",
       "0  0.351571  0.202252  0.787317  0.352163  0.581516\n",
       "1  0.792170  0.475058  0.041318  0.445682  0.045472\n",
       "2  0.034793  0.635065  0.471307  0.368997  0.944136\n",
       "3  0.817459  0.472707  0.858723  0.811795  0.354157\n",
       "4  0.955933  0.765625  0.487398  0.178853  0.466840\n",
       "5  0.798857  0.335233  0.377882  0.606153  0.274588\n",
       "6  0.823107  0.443695  0.805453  0.262356  0.968795\n",
       "7  0.600834  0.107140  0.874345  0.142726  0.463220\n",
       "8  0.994582  0.412037  0.340390  0.495975  0.236287\n",
       "9  0.962827  0.707807  0.442519  0.324526  0.810306"
      ]
     },
     "execution_count": 48,
     "metadata": {},
     "output_type": "execute_result"
    }
   ],
   "source": [
    "#Printing random values of no of rows\n",
    "import numpy as np\n",
    "import pandas as pd\n",
    "newdf=pd.DataFrame(np.random.rand(10,5),index=np.arange(10))\n",
    "newdf"
   ]
  },
  {
   "cell_type": "code",
   "execution_count": 49,
   "id": "895d212f-05f1-4945-94cc-526818aa58bd",
   "metadata": {},
   "outputs": [
    {
     "data": {
      "text/plain": [
       "Index([0, 1, 2, 3, 4, 5, 6, 7, 8, 9], dtype='int64')"
      ]
     },
     "execution_count": 49,
     "metadata": {},
     "output_type": "execute_result"
    }
   ],
   "source": [
    "#Printing the index of dataframe\n",
    "newdf.index"
   ]
  },
  {
   "cell_type": "code",
   "execution_count": 50,
   "id": "ce028739-a1d1-43bf-a129-71dcf51471ba",
   "metadata": {},
   "outputs": [
    {
     "data": {
      "text/plain": [
       "RangeIndex(start=0, stop=5, step=1)"
      ]
     },
     "execution_count": 50,
     "metadata": {},
     "output_type": "execute_result"
    }
   ],
   "source": [
    "#Gives the columns of dataframe\n",
    "newdf.columns"
   ]
  },
  {
   "cell_type": "code",
   "execution_count": 51,
   "id": "9761e7bf-d9e4-4450-bf56-843d134a2c47",
   "metadata": {},
   "outputs": [
    {
     "data": {
      "text/plain": [
       "0    float64\n",
       "1    float64\n",
       "2    float64\n",
       "3    float64\n",
       "4    float64\n",
       "dtype: object"
      ]
     },
     "execution_count": 51,
     "metadata": {},
     "output_type": "execute_result"
    }
   ],
   "source": [
    "#printing the datatypes of all columns\n",
    "newdf.dtypes"
   ]
  },
  {
   "cell_type": "code",
   "execution_count": 21,
   "id": "2dc3c200-f694-4b10-a1fd-5ee670d4be34",
   "metadata": {},
   "outputs": [],
   "source": [
    "#Changing the datatype of the field in dataframe\n",
    "newdf[0][0]=\"Anushka\""
   ]
  },
  {
   "cell_type": "code",
   "execution_count": 52,
   "id": "2ed83936-b09c-4ad2-b767-0ed37ae508dd",
   "metadata": {},
   "outputs": [
    {
     "data": {
      "text/plain": [
       "0    float64\n",
       "1    float64\n",
       "2    float64\n",
       "3    float64\n",
       "4    float64\n",
       "dtype: object"
      ]
     },
     "execution_count": 52,
     "metadata": {},
     "output_type": "execute_result"
    }
   ],
   "source": [
    "newdf.dtypes"
   ]
  },
  {
   "cell_type": "code",
   "execution_count": 53,
   "id": "9fc1d941-7f4d-407b-8742-6c1eed19a5ff",
   "metadata": {},
   "outputs": [
    {
     "data": {
      "text/plain": [
       "array([[0.35157071, 0.20225171, 0.78731677, 0.35216318, 0.58151574],\n",
       "       [0.79217001, 0.4750575 , 0.04131835, 0.44568194, 0.04547207],\n",
       "       [0.03479292, 0.6350646 , 0.47130669, 0.36899735, 0.94413614],\n",
       "       [0.81745893, 0.47270742, 0.85872326, 0.81179473, 0.35415715],\n",
       "       [0.95593267, 0.76562477, 0.48739838, 0.17885312, 0.46684021],\n",
       "       [0.79885742, 0.33523314, 0.37788163, 0.60615314, 0.2745883 ],\n",
       "       [0.82310746, 0.44369502, 0.80545276, 0.26235556, 0.9687946 ],\n",
       "       [0.60083379, 0.10713951, 0.87434459, 0.14272559, 0.46321972],\n",
       "       [0.9945816 , 0.41203667, 0.34038979, 0.49597475, 0.23628706],\n",
       "       [0.9628274 , 0.70780742, 0.44251914, 0.3245258 , 0.81030591]])"
      ]
     },
     "execution_count": 53,
     "metadata": {},
     "output_type": "execute_result"
    }
   ],
   "source": [
    "#Converting the dataframe into array\n",
    "newdf.to_numpy()"
   ]
  },
  {
   "cell_type": "code",
   "execution_count": 54,
   "id": "7b54fae3-9e59-4fb4-890d-346cc5ae32df",
   "metadata": {},
   "outputs": [
    {
     "data": {
      "text/html": [
       "<div>\n",
       "<style scoped>\n",
       "    .dataframe tbody tr th:only-of-type {\n",
       "        vertical-align: middle;\n",
       "    }\n",
       "\n",
       "    .dataframe tbody tr th {\n",
       "        vertical-align: top;\n",
       "    }\n",
       "\n",
       "    .dataframe thead th {\n",
       "        text-align: right;\n",
       "    }\n",
       "</style>\n",
       "<table border=\"1\" class=\"dataframe\">\n",
       "  <thead>\n",
       "    <tr style=\"text-align: right;\">\n",
       "      <th></th>\n",
       "      <th>0</th>\n",
       "      <th>1</th>\n",
       "      <th>2</th>\n",
       "      <th>3</th>\n",
       "      <th>4</th>\n",
       "      <th>5</th>\n",
       "      <th>6</th>\n",
       "      <th>7</th>\n",
       "      <th>8</th>\n",
       "      <th>9</th>\n",
       "    </tr>\n",
       "  </thead>\n",
       "  <tbody>\n",
       "    <tr>\n",
       "      <th>0</th>\n",
       "      <td>0.351571</td>\n",
       "      <td>0.792170</td>\n",
       "      <td>0.034793</td>\n",
       "      <td>0.817459</td>\n",
       "      <td>0.955933</td>\n",
       "      <td>0.798857</td>\n",
       "      <td>0.823107</td>\n",
       "      <td>0.600834</td>\n",
       "      <td>0.994582</td>\n",
       "      <td>0.962827</td>\n",
       "    </tr>\n",
       "    <tr>\n",
       "      <th>1</th>\n",
       "      <td>0.202252</td>\n",
       "      <td>0.475058</td>\n",
       "      <td>0.635065</td>\n",
       "      <td>0.472707</td>\n",
       "      <td>0.765625</td>\n",
       "      <td>0.335233</td>\n",
       "      <td>0.443695</td>\n",
       "      <td>0.107140</td>\n",
       "      <td>0.412037</td>\n",
       "      <td>0.707807</td>\n",
       "    </tr>\n",
       "    <tr>\n",
       "      <th>2</th>\n",
       "      <td>0.787317</td>\n",
       "      <td>0.041318</td>\n",
       "      <td>0.471307</td>\n",
       "      <td>0.858723</td>\n",
       "      <td>0.487398</td>\n",
       "      <td>0.377882</td>\n",
       "      <td>0.805453</td>\n",
       "      <td>0.874345</td>\n",
       "      <td>0.340390</td>\n",
       "      <td>0.442519</td>\n",
       "    </tr>\n",
       "    <tr>\n",
       "      <th>3</th>\n",
       "      <td>0.352163</td>\n",
       "      <td>0.445682</td>\n",
       "      <td>0.368997</td>\n",
       "      <td>0.811795</td>\n",
       "      <td>0.178853</td>\n",
       "      <td>0.606153</td>\n",
       "      <td>0.262356</td>\n",
       "      <td>0.142726</td>\n",
       "      <td>0.495975</td>\n",
       "      <td>0.324526</td>\n",
       "    </tr>\n",
       "    <tr>\n",
       "      <th>4</th>\n",
       "      <td>0.581516</td>\n",
       "      <td>0.045472</td>\n",
       "      <td>0.944136</td>\n",
       "      <td>0.354157</td>\n",
       "      <td>0.466840</td>\n",
       "      <td>0.274588</td>\n",
       "      <td>0.968795</td>\n",
       "      <td>0.463220</td>\n",
       "      <td>0.236287</td>\n",
       "      <td>0.810306</td>\n",
       "    </tr>\n",
       "  </tbody>\n",
       "</table>\n",
       "</div>"
      ],
      "text/plain": [
       "          0         1         2         3         4         5         6  \\\n",
       "0  0.351571  0.792170  0.034793  0.817459  0.955933  0.798857  0.823107   \n",
       "1  0.202252  0.475058  0.635065  0.472707  0.765625  0.335233  0.443695   \n",
       "2  0.787317  0.041318  0.471307  0.858723  0.487398  0.377882  0.805453   \n",
       "3  0.352163  0.445682  0.368997  0.811795  0.178853  0.606153  0.262356   \n",
       "4  0.581516  0.045472  0.944136  0.354157  0.466840  0.274588  0.968795   \n",
       "\n",
       "          7         8         9  \n",
       "0  0.600834  0.994582  0.962827  \n",
       "1  0.107140  0.412037  0.707807  \n",
       "2  0.874345  0.340390  0.442519  \n",
       "3  0.142726  0.495975  0.324526  \n",
       "4  0.463220  0.236287  0.810306  "
      ]
     },
     "execution_count": 54,
     "metadata": {},
     "output_type": "execute_result"
    }
   ],
   "source": [
    "#Printing the transpose of array\n",
    "newdf.T"
   ]
  },
  {
   "cell_type": "code",
   "execution_count": 55,
   "id": "b06a9be4-a4ff-4663-902e-d7499738a516",
   "metadata": {},
   "outputs": [
    {
     "data": {
      "text/plain": [
       "pandas.core.series.Series"
      ]
     },
     "execution_count": 55,
     "metadata": {},
     "output_type": "execute_result"
    }
   ],
   "source": [
    "#Printing the type of data\n",
    "type(newdf[0])"
   ]
  },
  {
   "cell_type": "code",
   "execution_count": 56,
   "id": "4ecb59ce-23b4-4660-9b91-c78c13fe7047",
   "metadata": {},
   "outputs": [
    {
     "data": {
      "text/html": [
       "<div>\n",
       "<style scoped>\n",
       "    .dataframe tbody tr th:only-of-type {\n",
       "        vertical-align: middle;\n",
       "    }\n",
       "\n",
       "    .dataframe tbody tr th {\n",
       "        vertical-align: top;\n",
       "    }\n",
       "\n",
       "    .dataframe thead th {\n",
       "        text-align: right;\n",
       "    }\n",
       "</style>\n",
       "<table border=\"1\" class=\"dataframe\">\n",
       "  <thead>\n",
       "    <tr style=\"text-align: right;\">\n",
       "      <th></th>\n",
       "      <th>0</th>\n",
       "      <th>1</th>\n",
       "      <th>2</th>\n",
       "      <th>3</th>\n",
       "      <th>4</th>\n",
       "    </tr>\n",
       "  </thead>\n",
       "  <tbody>\n",
       "    <tr>\n",
       "      <th>0</th>\n",
       "      <td>654.00000</td>\n",
       "      <td>0.202252</td>\n",
       "      <td>0.787317</td>\n",
       "      <td>0.352163</td>\n",
       "      <td>0.581516</td>\n",
       "    </tr>\n",
       "    <tr>\n",
       "      <th>1</th>\n",
       "      <td>0.79217</td>\n",
       "      <td>0.475058</td>\n",
       "      <td>0.041318</td>\n",
       "      <td>0.445682</td>\n",
       "      <td>0.045472</td>\n",
       "    </tr>\n",
       "  </tbody>\n",
       "</table>\n",
       "</div>"
      ],
      "text/plain": [
       "           0         1         2         3         4\n",
       "0  654.00000  0.202252  0.787317  0.352163  0.581516\n",
       "1    0.79217  0.475058  0.041318  0.445682  0.045472"
      ]
     },
     "execution_count": 56,
     "metadata": {},
     "output_type": "execute_result"
    }
   ],
   "source": [
    "#Making the value immutable\n",
    "newdf.loc[0,0]=654\n",
    "newdf.head(2)"
   ]
  },
  {
   "cell_type": "code",
   "execution_count": 57,
   "id": "b78a33d7-9813-4c95-a0d1-663d9e308710",
   "metadata": {},
   "outputs": [
    {
     "data": {
      "text/html": [
       "<div>\n",
       "<style scoped>\n",
       "    .dataframe tbody tr th:only-of-type {\n",
       "        vertical-align: middle;\n",
       "    }\n",
       "\n",
       "    .dataframe tbody tr th {\n",
       "        vertical-align: top;\n",
       "    }\n",
       "\n",
       "    .dataframe thead th {\n",
       "        text-align: right;\n",
       "    }\n",
       "</style>\n",
       "<table border=\"1\" class=\"dataframe\">\n",
       "  <thead>\n",
       "    <tr style=\"text-align: right;\">\n",
       "      <th></th>\n",
       "      <th>1</th>\n",
       "      <th>2</th>\n",
       "      <th>3</th>\n",
       "      <th>4</th>\n",
       "    </tr>\n",
       "  </thead>\n",
       "  <tbody>\n",
       "    <tr>\n",
       "      <th>0</th>\n",
       "      <td>0.202252</td>\n",
       "      <td>0.787317</td>\n",
       "      <td>0.352163</td>\n",
       "      <td>0.581516</td>\n",
       "    </tr>\n",
       "    <tr>\n",
       "      <th>1</th>\n",
       "      <td>0.475058</td>\n",
       "      <td>0.041318</td>\n",
       "      <td>0.445682</td>\n",
       "      <td>0.045472</td>\n",
       "    </tr>\n",
       "    <tr>\n",
       "      <th>2</th>\n",
       "      <td>0.635065</td>\n",
       "      <td>0.471307</td>\n",
       "      <td>0.368997</td>\n",
       "      <td>0.944136</td>\n",
       "    </tr>\n",
       "    <tr>\n",
       "      <th>3</th>\n",
       "      <td>0.472707</td>\n",
       "      <td>0.858723</td>\n",
       "      <td>0.811795</td>\n",
       "      <td>0.354157</td>\n",
       "    </tr>\n",
       "    <tr>\n",
       "      <th>4</th>\n",
       "      <td>0.765625</td>\n",
       "      <td>0.487398</td>\n",
       "      <td>0.178853</td>\n",
       "      <td>0.466840</td>\n",
       "    </tr>\n",
       "    <tr>\n",
       "      <th>5</th>\n",
       "      <td>0.335233</td>\n",
       "      <td>0.377882</td>\n",
       "      <td>0.606153</td>\n",
       "      <td>0.274588</td>\n",
       "    </tr>\n",
       "    <tr>\n",
       "      <th>6</th>\n",
       "      <td>0.443695</td>\n",
       "      <td>0.805453</td>\n",
       "      <td>0.262356</td>\n",
       "      <td>0.968795</td>\n",
       "    </tr>\n",
       "    <tr>\n",
       "      <th>7</th>\n",
       "      <td>0.107140</td>\n",
       "      <td>0.874345</td>\n",
       "      <td>0.142726</td>\n",
       "      <td>0.463220</td>\n",
       "    </tr>\n",
       "    <tr>\n",
       "      <th>8</th>\n",
       "      <td>0.412037</td>\n",
       "      <td>0.340390</td>\n",
       "      <td>0.495975</td>\n",
       "      <td>0.236287</td>\n",
       "    </tr>\n",
       "    <tr>\n",
       "      <th>9</th>\n",
       "      <td>0.707807</td>\n",
       "      <td>0.442519</td>\n",
       "      <td>0.324526</td>\n",
       "      <td>0.810306</td>\n",
       "    </tr>\n",
       "  </tbody>\n",
       "</table>\n",
       "</div>"
      ],
      "text/plain": [
       "          1         2         3         4\n",
       "0  0.202252  0.787317  0.352163  0.581516\n",
       "1  0.475058  0.041318  0.445682  0.045472\n",
       "2  0.635065  0.471307  0.368997  0.944136\n",
       "3  0.472707  0.858723  0.811795  0.354157\n",
       "4  0.765625  0.487398  0.178853  0.466840\n",
       "5  0.335233  0.377882  0.606153  0.274588\n",
       "6  0.443695  0.805453  0.262356  0.968795\n",
       "7  0.107140  0.874345  0.142726  0.463220\n",
       "8  0.412037  0.340390  0.495975  0.236287\n",
       "9  0.707807  0.442519  0.324526  0.810306"
      ]
     },
     "execution_count": 57,
     "metadata": {},
     "output_type": "execute_result"
    }
   ],
   "source": [
    "#Deleting the column at index 1\n",
    "newdf.drop(0,axis=1)"
   ]
  },
  {
   "cell_type": "code",
   "execution_count": 58,
   "id": "1b88d224-a5c2-4992-8be1-49dd1e161c4f",
   "metadata": {},
   "outputs": [
    {
     "data": {
      "text/html": [
       "<div>\n",
       "<style scoped>\n",
       "    .dataframe tbody tr th:only-of-type {\n",
       "        vertical-align: middle;\n",
       "    }\n",
       "\n",
       "    .dataframe tbody tr th {\n",
       "        vertical-align: top;\n",
       "    }\n",
       "\n",
       "    .dataframe thead th {\n",
       "        text-align: right;\n",
       "    }\n",
       "</style>\n",
       "<table border=\"1\" class=\"dataframe\">\n",
       "  <thead>\n",
       "    <tr style=\"text-align: right;\">\n",
       "      <th></th>\n",
       "      <th>0</th>\n",
       "      <th>1</th>\n",
       "      <th>2</th>\n",
       "      <th>3</th>\n",
       "      <th>4</th>\n",
       "    </tr>\n",
       "  </thead>\n",
       "  <tbody>\n",
       "    <tr>\n",
       "      <th>9</th>\n",
       "      <td>0.962827</td>\n",
       "      <td>0.707807</td>\n",
       "      <td>0.442519</td>\n",
       "      <td>0.324526</td>\n",
       "      <td>0.810306</td>\n",
       "    </tr>\n",
       "    <tr>\n",
       "      <th>8</th>\n",
       "      <td>0.994582</td>\n",
       "      <td>0.412037</td>\n",
       "      <td>0.340390</td>\n",
       "      <td>0.495975</td>\n",
       "      <td>0.236287</td>\n",
       "    </tr>\n",
       "    <tr>\n",
       "      <th>7</th>\n",
       "      <td>0.600834</td>\n",
       "      <td>0.107140</td>\n",
       "      <td>0.874345</td>\n",
       "      <td>0.142726</td>\n",
       "      <td>0.463220</td>\n",
       "    </tr>\n",
       "    <tr>\n",
       "      <th>6</th>\n",
       "      <td>0.823107</td>\n",
       "      <td>0.443695</td>\n",
       "      <td>0.805453</td>\n",
       "      <td>0.262356</td>\n",
       "      <td>0.968795</td>\n",
       "    </tr>\n",
       "    <tr>\n",
       "      <th>5</th>\n",
       "      <td>0.798857</td>\n",
       "      <td>0.335233</td>\n",
       "      <td>0.377882</td>\n",
       "      <td>0.606153</td>\n",
       "      <td>0.274588</td>\n",
       "    </tr>\n",
       "    <tr>\n",
       "      <th>4</th>\n",
       "      <td>0.955933</td>\n",
       "      <td>0.765625</td>\n",
       "      <td>0.487398</td>\n",
       "      <td>0.178853</td>\n",
       "      <td>0.466840</td>\n",
       "    </tr>\n",
       "    <tr>\n",
       "      <th>3</th>\n",
       "      <td>0.817459</td>\n",
       "      <td>0.472707</td>\n",
       "      <td>0.858723</td>\n",
       "      <td>0.811795</td>\n",
       "      <td>0.354157</td>\n",
       "    </tr>\n",
       "    <tr>\n",
       "      <th>2</th>\n",
       "      <td>0.034793</td>\n",
       "      <td>0.635065</td>\n",
       "      <td>0.471307</td>\n",
       "      <td>0.368997</td>\n",
       "      <td>0.944136</td>\n",
       "    </tr>\n",
       "    <tr>\n",
       "      <th>1</th>\n",
       "      <td>0.792170</td>\n",
       "      <td>0.475058</td>\n",
       "      <td>0.041318</td>\n",
       "      <td>0.445682</td>\n",
       "      <td>0.045472</td>\n",
       "    </tr>\n",
       "    <tr>\n",
       "      <th>0</th>\n",
       "      <td>654.000000</td>\n",
       "      <td>0.202252</td>\n",
       "      <td>0.787317</td>\n",
       "      <td>0.352163</td>\n",
       "      <td>0.581516</td>\n",
       "    </tr>\n",
       "  </tbody>\n",
       "</table>\n",
       "</div>"
      ],
      "text/plain": [
       "            0         1         2         3         4\n",
       "9    0.962827  0.707807  0.442519  0.324526  0.810306\n",
       "8    0.994582  0.412037  0.340390  0.495975  0.236287\n",
       "7    0.600834  0.107140  0.874345  0.142726  0.463220\n",
       "6    0.823107  0.443695  0.805453  0.262356  0.968795\n",
       "5    0.798857  0.335233  0.377882  0.606153  0.274588\n",
       "4    0.955933  0.765625  0.487398  0.178853  0.466840\n",
       "3    0.817459  0.472707  0.858723  0.811795  0.354157\n",
       "2    0.034793  0.635065  0.471307  0.368997  0.944136\n",
       "1    0.792170  0.475058  0.041318  0.445682  0.045472\n",
       "0  654.000000  0.202252  0.787317  0.352163  0.581516"
      ]
     },
     "execution_count": 58,
     "metadata": {},
     "output_type": "execute_result"
    }
   ],
   "source": [
    "#Sorting the array in descending order\n",
    "newdf.sort_index(axis=0,ascending=False)"
   ]
  },
  {
   "cell_type": "code",
   "execution_count": 59,
   "id": "2aa782b1-510a-4afc-a642-e5b1fb262dc4",
   "metadata": {},
   "outputs": [
    {
     "data": {
      "text/html": [
       "<div>\n",
       "<style scoped>\n",
       "    .dataframe tbody tr th:only-of-type {\n",
       "        vertical-align: middle;\n",
       "    }\n",
       "\n",
       "    .dataframe tbody tr th {\n",
       "        vertical-align: top;\n",
       "    }\n",
       "\n",
       "    .dataframe thead th {\n",
       "        text-align: right;\n",
       "    }\n",
       "</style>\n",
       "<table border=\"1\" class=\"dataframe\">\n",
       "  <thead>\n",
       "    <tr style=\"text-align: right;\">\n",
       "      <th></th>\n",
       "      <th>A</th>\n",
       "      <th>B</th>\n",
       "      <th>C</th>\n",
       "      <th>D</th>\n",
       "      <th>E</th>\n",
       "    </tr>\n",
       "  </thead>\n",
       "  <tbody>\n",
       "    <tr>\n",
       "      <th>0</th>\n",
       "      <td>654.000000</td>\n",
       "      <td>0.202252</td>\n",
       "      <td>0.787317</td>\n",
       "      <td>0.352163</td>\n",
       "      <td>0.581516</td>\n",
       "    </tr>\n",
       "    <tr>\n",
       "      <th>1</th>\n",
       "      <td>0.792170</td>\n",
       "      <td>0.475058</td>\n",
       "      <td>0.041318</td>\n",
       "      <td>0.445682</td>\n",
       "      <td>0.045472</td>\n",
       "    </tr>\n",
       "    <tr>\n",
       "      <th>2</th>\n",
       "      <td>0.034793</td>\n",
       "      <td>0.635065</td>\n",
       "      <td>0.471307</td>\n",
       "      <td>0.368997</td>\n",
       "      <td>0.944136</td>\n",
       "    </tr>\n",
       "    <tr>\n",
       "      <th>3</th>\n",
       "      <td>0.817459</td>\n",
       "      <td>0.472707</td>\n",
       "      <td>0.858723</td>\n",
       "      <td>0.811795</td>\n",
       "      <td>0.354157</td>\n",
       "    </tr>\n",
       "    <tr>\n",
       "      <th>4</th>\n",
       "      <td>0.955933</td>\n",
       "      <td>0.765625</td>\n",
       "      <td>0.487398</td>\n",
       "      <td>0.178853</td>\n",
       "      <td>0.466840</td>\n",
       "    </tr>\n",
       "  </tbody>\n",
       "</table>\n",
       "</div>"
      ],
      "text/plain": [
       "            A         B         C         D         E\n",
       "0  654.000000  0.202252  0.787317  0.352163  0.581516\n",
       "1    0.792170  0.475058  0.041318  0.445682  0.045472\n",
       "2    0.034793  0.635065  0.471307  0.368997  0.944136\n",
       "3    0.817459  0.472707  0.858723  0.811795  0.354157\n",
       "4    0.955933  0.765625  0.487398  0.178853  0.466840"
      ]
     },
     "execution_count": 59,
     "metadata": {},
     "output_type": "execute_result"
    }
   ],
   "source": [
    "#Changing the index of column\n",
    "newdf.columns=list('ABCDE')\n",
    "newdf.head()"
   ]
  },
  {
   "cell_type": "code",
   "execution_count": 30,
   "id": "93ac08d9-4836-4e4e-b3a5-d44d42cdd84e",
   "metadata": {},
   "outputs": [
    {
     "data": {
      "text/html": [
       "<div>\n",
       "<style scoped>\n",
       "    .dataframe tbody tr th:only-of-type {\n",
       "        vertical-align: middle;\n",
       "    }\n",
       "\n",
       "    .dataframe tbody tr th {\n",
       "        vertical-align: top;\n",
       "    }\n",
       "\n",
       "    .dataframe thead th {\n",
       "        text-align: right;\n",
       "    }\n",
       "</style>\n",
       "<table border=\"1\" class=\"dataframe\">\n",
       "  <thead>\n",
       "    <tr style=\"text-align: right;\">\n",
       "      <th></th>\n",
       "      <th>C</th>\n",
       "      <th>D</th>\n",
       "    </tr>\n",
       "  </thead>\n",
       "  <tbody>\n",
       "    <tr>\n",
       "      <th>1</th>\n",
       "      <td>0.927852</td>\n",
       "      <td>0.706594</td>\n",
       "    </tr>\n",
       "    <tr>\n",
       "      <th>2</th>\n",
       "      <td>0.485136</td>\n",
       "      <td>0.927508</td>\n",
       "    </tr>\n",
       "  </tbody>\n",
       "</table>\n",
       "</div>"
      ],
      "text/plain": [
       "          C         D\n",
       "1  0.927852  0.706594\n",
       "2  0.485136  0.927508"
      ]
     },
     "execution_count": 30,
     "metadata": {},
     "output_type": "execute_result"
    }
   ],
   "source": [
    "#Printing the values at particular row and column\n",
    "newdf.loc[[1,2],['C','D']]"
   ]
  },
  {
   "cell_type": "code",
   "execution_count": 31,
   "id": "834ccc95-39fe-43aa-9e99-e2401b812690",
   "metadata": {},
   "outputs": [
    {
     "data": {
      "text/html": [
       "<div>\n",
       "<style scoped>\n",
       "    .dataframe tbody tr th:only-of-type {\n",
       "        vertical-align: middle;\n",
       "    }\n",
       "\n",
       "    .dataframe tbody tr th {\n",
       "        vertical-align: top;\n",
       "    }\n",
       "\n",
       "    .dataframe thead th {\n",
       "        text-align: right;\n",
       "    }\n",
       "</style>\n",
       "<table border=\"1\" class=\"dataframe\">\n",
       "  <thead>\n",
       "    <tr style=\"text-align: right;\">\n",
       "      <th></th>\n",
       "      <th>A</th>\n",
       "      <th>B</th>\n",
       "      <th>C</th>\n",
       "      <th>D</th>\n",
       "      <th>E</th>\n",
       "    </tr>\n",
       "  </thead>\n",
       "  <tbody>\n",
       "    <tr>\n",
       "      <th>4</th>\n",
       "      <td>0.213727</td>\n",
       "      <td>0.543550</td>\n",
       "      <td>0.081554</td>\n",
       "      <td>0.599873</td>\n",
       "      <td>0.131388</td>\n",
       "    </tr>\n",
       "    <tr>\n",
       "      <th>5</th>\n",
       "      <td>0.077664</td>\n",
       "      <td>0.189916</td>\n",
       "      <td>0.161695</td>\n",
       "      <td>0.840441</td>\n",
       "      <td>0.293070</td>\n",
       "    </tr>\n",
       "  </tbody>\n",
       "</table>\n",
       "</div>"
      ],
      "text/plain": [
       "          A         B         C         D         E\n",
       "4  0.213727  0.543550  0.081554  0.599873  0.131388\n",
       "5  0.077664  0.189916  0.161695  0.840441  0.293070"
      ]
     },
     "execution_count": 31,
     "metadata": {},
     "output_type": "execute_result"
    }
   ],
   "source": [
    "newdf.loc[(newdf['A']<0.3)]   #Prints the values in  less than 0.3"
   ]
  },
  {
   "cell_type": "code",
   "execution_count": 32,
   "id": "3c9b37b1-7a86-4dd5-8778-69c39d6acf76",
   "metadata": {},
   "outputs": [
    {
     "data": {
      "text/plain": [
       "np.float64(0.683088800686739)"
      ]
     },
     "execution_count": 32,
     "metadata": {},
     "output_type": "execute_result"
    }
   ],
   "source": [
    "# Printing the value at index\n",
    "newdf.iloc[0,4]"
   ]
  },
  {
   "cell_type": "code",
   "execution_count": 60,
   "id": "3bc9bc66-a55f-4394-9e5c-103ab765d460",
   "metadata": {},
   "outputs": [
    {
     "data": {
      "text/plain": [
       "0    False\n",
       "1    False\n",
       "2    False\n",
       "3    False\n",
       "4    False\n",
       "5    False\n",
       "6    False\n",
       "7    False\n",
       "8    False\n",
       "9    False\n",
       "Name: B, dtype: bool"
      ]
     },
     "execution_count": 60,
     "metadata": {},
     "output_type": "execute_result"
    }
   ],
   "source": [
    "# Checking that value is null or not\n",
    "newdf['B'].isnull()"
   ]
  },
  {
   "cell_type": "code",
   "execution_count": 63,
   "id": "13cdf571-5ea3-4455-b966-3acb1b098343",
   "metadata": {},
   "outputs": [
    {
     "data": {
      "text/html": [
       "<div>\n",
       "<style scoped>\n",
       "    .dataframe tbody tr th:only-of-type {\n",
       "        vertical-align: middle;\n",
       "    }\n",
       "\n",
       "    .dataframe tbody tr th {\n",
       "        vertical-align: top;\n",
       "    }\n",
       "\n",
       "    .dataframe thead th {\n",
       "        text-align: right;\n",
       "    }\n",
       "</style>\n",
       "<table border=\"1\" class=\"dataframe\">\n",
       "  <thead>\n",
       "    <tr style=\"text-align: right;\">\n",
       "      <th></th>\n",
       "      <th>A</th>\n",
       "      <th>B</th>\n",
       "      <th>C</th>\n",
       "      <th>D</th>\n",
       "      <th>E</th>\n",
       "    </tr>\n",
       "  </thead>\n",
       "  <tbody>\n",
       "    <tr>\n",
       "      <th>0</th>\n",
       "      <td>None</td>\n",
       "      <td>0.202252</td>\n",
       "      <td>0.787317</td>\n",
       "      <td>0.352163</td>\n",
       "      <td>0.581516</td>\n",
       "    </tr>\n",
       "    <tr>\n",
       "      <th>1</th>\n",
       "      <td>None</td>\n",
       "      <td>0.475058</td>\n",
       "      <td>0.041318</td>\n",
       "      <td>0.445682</td>\n",
       "      <td>0.045472</td>\n",
       "    </tr>\n",
       "    <tr>\n",
       "      <th>2</th>\n",
       "      <td>None</td>\n",
       "      <td>0.635065</td>\n",
       "      <td>0.471307</td>\n",
       "      <td>0.368997</td>\n",
       "      <td>0.944136</td>\n",
       "    </tr>\n",
       "    <tr>\n",
       "      <th>3</th>\n",
       "      <td>None</td>\n",
       "      <td>0.472707</td>\n",
       "      <td>0.858723</td>\n",
       "      <td>0.811795</td>\n",
       "      <td>0.354157</td>\n",
       "    </tr>\n",
       "    <tr>\n",
       "      <th>4</th>\n",
       "      <td>None</td>\n",
       "      <td>0.765625</td>\n",
       "      <td>0.487398</td>\n",
       "      <td>0.178853</td>\n",
       "      <td>0.466840</td>\n",
       "    </tr>\n",
       "    <tr>\n",
       "      <th>5</th>\n",
       "      <td>None</td>\n",
       "      <td>0.335233</td>\n",
       "      <td>0.377882</td>\n",
       "      <td>0.606153</td>\n",
       "      <td>0.274588</td>\n",
       "    </tr>\n",
       "    <tr>\n",
       "      <th>6</th>\n",
       "      <td>None</td>\n",
       "      <td>0.443695</td>\n",
       "      <td>0.805453</td>\n",
       "      <td>0.262356</td>\n",
       "      <td>0.968795</td>\n",
       "    </tr>\n",
       "    <tr>\n",
       "      <th>7</th>\n",
       "      <td>None</td>\n",
       "      <td>0.107140</td>\n",
       "      <td>0.874345</td>\n",
       "      <td>0.142726</td>\n",
       "      <td>0.463220</td>\n",
       "    </tr>\n",
       "    <tr>\n",
       "      <th>8</th>\n",
       "      <td>None</td>\n",
       "      <td>0.412037</td>\n",
       "      <td>0.340390</td>\n",
       "      <td>0.495975</td>\n",
       "      <td>0.236287</td>\n",
       "    </tr>\n",
       "    <tr>\n",
       "      <th>9</th>\n",
       "      <td>None</td>\n",
       "      <td>0.707807</td>\n",
       "      <td>0.442519</td>\n",
       "      <td>0.324526</td>\n",
       "      <td>0.810306</td>\n",
       "    </tr>\n",
       "  </tbody>\n",
       "</table>\n",
       "</div>"
      ],
      "text/plain": [
       "      A         B         C         D         E\n",
       "0  None  0.202252  0.787317  0.352163  0.581516\n",
       "1  None  0.475058  0.041318  0.445682  0.045472\n",
       "2  None  0.635065  0.471307  0.368997  0.944136\n",
       "3  None  0.472707  0.858723  0.811795  0.354157\n",
       "4  None  0.765625  0.487398  0.178853  0.466840\n",
       "5  None  0.335233  0.377882  0.606153  0.274588\n",
       "6  None  0.443695  0.805453  0.262356  0.968795\n",
       "7  None  0.107140  0.874345  0.142726  0.463220\n",
       "8  None  0.412037  0.340390  0.495975  0.236287\n",
       "9  None  0.707807  0.442519  0.324526  0.810306"
      ]
     },
     "execution_count": 63,
     "metadata": {},
     "output_type": "execute_result"
    }
   ],
   "source": [
    "# Making value none\n",
    "newdf['A']=None\n",
    "newdf"
   ]
  },
  {
   "cell_type": "code",
   "execution_count": 74,
   "id": "113b7d27-1f12-42a9-8fda-013c9d175cc3",
   "metadata": {},
   "outputs": [
    {
     "data": {
      "text/html": [
       "<div>\n",
       "<style scoped>\n",
       "    .dataframe tbody tr th:only-of-type {\n",
       "        vertical-align: middle;\n",
       "    }\n",
       "\n",
       "    .dataframe tbody tr th {\n",
       "        vertical-align: top;\n",
       "    }\n",
       "\n",
       "    .dataframe thead th {\n",
       "        text-align: right;\n",
       "    }\n",
       "</style>\n",
       "<table border=\"1\" class=\"dataframe\">\n",
       "  <thead>\n",
       "    <tr style=\"text-align: right;\">\n",
       "      <th></th>\n",
       "      <th>Name</th>\n",
       "      <th>Salary</th>\n",
       "      <th>ID</th>\n",
       "    </tr>\n",
       "  </thead>\n",
       "  <tbody>\n",
       "    <tr>\n",
       "      <th>0</th>\n",
       "      <td>Rocky</td>\n",
       "      <td>10000</td>\n",
       "      <td>123</td>\n",
       "    </tr>\n",
       "    <tr>\n",
       "      <th>1</th>\n",
       "      <td>Alisha</td>\n",
       "      <td>20000</td>\n",
       "      <td>456</td>\n",
       "    </tr>\n",
       "    <tr>\n",
       "      <th>2</th>\n",
       "      <td>john</td>\n",
       "      <td>30000</td>\n",
       "      <td>123</td>\n",
       "    </tr>\n",
       "    <tr>\n",
       "      <th>3</th>\n",
       "      <td>Rocky</td>\n",
       "      <td>40000</td>\n",
       "      <td>963</td>\n",
       "    </tr>\n",
       "  </tbody>\n",
       "</table>\n",
       "</div>"
      ],
      "text/plain": [
       "     Name  Salary   ID\n",
       "0   Rocky   10000  123\n",
       "1  Alisha   20000  456\n",
       "2    john   30000  123\n",
       "3   Rocky   40000  963"
      ]
     },
     "execution_count": 74,
     "metadata": {},
     "output_type": "execute_result"
    }
   ],
   "source": [
    "import numpy as np\n",
    "import pandas as pd\n",
    "dict2={\n",
    "       \"Name\":['Rocky','Alisha','john','Rocky'],\n",
    "       \"Salary\":[10000,20000,30000,40000],\n",
    "       \"ID\":[123,456,123,963],\n",
    "}\n",
    "df=pd.DataFrame(dict2)\n",
    "df     "
   ]
  },
  {
   "cell_type": "code",
   "execution_count": 75,
   "id": "190be6be-e79c-4a70-9ee2-6b2675749f52",
   "metadata": {},
   "outputs": [
    {
     "data": {
      "text/plain": [
       "0    False\n",
       "1    False\n",
       "2    False\n",
       "3    False\n",
       "Name: Salary, dtype: bool"
      ]
     },
     "execution_count": 75,
     "metadata": {},
     "output_type": "execute_result"
    }
   ],
   "source": [
    "df['Salary'].isnull()"
   ]
  },
  {
   "cell_type": "code",
   "execution_count": 86,
   "id": "285f016a-eec4-4dc4-9872-13b905d46728",
   "metadata": {},
   "outputs": [
    {
     "data": {
      "text/html": [
       "<div>\n",
       "<style scoped>\n",
       "    .dataframe tbody tr th:only-of-type {\n",
       "        vertical-align: middle;\n",
       "    }\n",
       "\n",
       "    .dataframe tbody tr th {\n",
       "        vertical-align: top;\n",
       "    }\n",
       "\n",
       "    .dataframe thead th {\n",
       "        text-align: right;\n",
       "    }\n",
       "</style>\n",
       "<table border=\"1\" class=\"dataframe\">\n",
       "  <thead>\n",
       "    <tr style=\"text-align: right;\">\n",
       "      <th></th>\n",
       "      <th>Name</th>\n",
       "      <th>Salary</th>\n",
       "      <th>ID</th>\n",
       "    </tr>\n",
       "  </thead>\n",
       "  <tbody>\n",
       "    <tr>\n",
       "      <th>0</th>\n",
       "      <td>Rocky</td>\n",
       "      <td>10000</td>\n",
       "      <td>123</td>\n",
       "    </tr>\n",
       "    <tr>\n",
       "      <th>1</th>\n",
       "      <td>Alisha</td>\n",
       "      <td>20000</td>\n",
       "      <td>456</td>\n",
       "    </tr>\n",
       "    <tr>\n",
       "      <th>3</th>\n",
       "      <td>Rocky</td>\n",
       "      <td>40000</td>\n",
       "      <td>963</td>\n",
       "    </tr>\n",
       "  </tbody>\n",
       "</table>\n",
       "</div>"
      ],
      "text/plain": [
       "     Name  Salary   ID\n",
       "0   Rocky   10000  123\n",
       "1  Alisha   20000  456\n",
       "3   Rocky   40000  963"
      ]
     },
     "execution_count": 86,
     "metadata": {},
     "output_type": "execute_result"
    }
   ],
   "source": [
    "#Skipping the dulpicate values\n",
    "df.drop_duplicates(subset=['ID'])"
   ]
  },
  {
   "cell_type": "code",
   "execution_count": 81,
   "id": "f8364dad-63ca-4b00-8ad4-ae42f90350cb",
   "metadata": {},
   "outputs": [
    {
     "data": {
      "text/plain": [
       "(4, 3)"
      ]
     },
     "execution_count": 81,
     "metadata": {},
     "output_type": "execute_result"
    }
   ],
   "source": [
    "#Printing the shape of dataframe\n",
    "df.shape"
   ]
  },
  {
   "cell_type": "code",
   "execution_count": 82,
   "id": "db2d2426-e1df-4f72-8bef-4d6b892dc035",
   "metadata": {},
   "outputs": [
    {
     "data": {
      "text/plain": [
       "<bound method DataFrame.info of      Name  Salary   ID\n",
       "0   Rocky   10000  123\n",
       "1  Alisha   20000  456\n",
       "2    john   30000  123\n",
       "3   Rocky   40000  963>"
      ]
     },
     "execution_count": 82,
     "metadata": {},
     "output_type": "execute_result"
    }
   ],
   "source": [
    "#Printing information\n",
    "df.info"
   ]
  },
  {
   "cell_type": "code",
   "execution_count": 89,
   "id": "bf72e5e7-69ba-451c-903f-788d5294b6cc",
   "metadata": {},
   "outputs": [
    {
     "data": {
      "text/html": [
       "<div>\n",
       "<style scoped>\n",
       "    .dataframe tbody tr th:only-of-type {\n",
       "        vertical-align: middle;\n",
       "    }\n",
       "\n",
       "    .dataframe tbody tr th {\n",
       "        vertical-align: top;\n",
       "    }\n",
       "\n",
       "    .dataframe thead th {\n",
       "        text-align: right;\n",
       "    }\n",
       "</style>\n",
       "<table border=\"1\" class=\"dataframe\">\n",
       "  <thead>\n",
       "    <tr style=\"text-align: right;\">\n",
       "      <th></th>\n",
       "      <th>Name</th>\n",
       "      <th>Salary</th>\n",
       "      <th>ID</th>\n",
       "    </tr>\n",
       "  </thead>\n",
       "  <tbody>\n",
       "    <tr>\n",
       "      <th>1</th>\n",
       "      <td>Alisha</td>\n",
       "      <td>20000</td>\n",
       "      <td>456</td>\n",
       "    </tr>\n",
       "    <tr>\n",
       "      <th>2</th>\n",
       "      <td>john</td>\n",
       "      <td>30000</td>\n",
       "      <td>123</td>\n",
       "    </tr>\n",
       "    <tr>\n",
       "      <th>3</th>\n",
       "      <td>Rocky</td>\n",
       "      <td>40000</td>\n",
       "      <td>963</td>\n",
       "    </tr>\n",
       "  </tbody>\n",
       "</table>\n",
       "</div>"
      ],
      "text/plain": [
       "     Name  Salary   ID\n",
       "1  Alisha   20000  456\n",
       "2    john   30000  123\n",
       "3   Rocky   40000  963"
      ]
     },
     "execution_count": 89,
     "metadata": {},
     "output_type": "execute_result"
    }
   ],
   "source": [
    "#Skipping first and keeping last duplicate value\n",
    "df.drop_duplicates(subset=['Name'],keep='last')"
   ]
  },
  {
   "cell_type": "code",
   "execution_count": 90,
   "id": "64cd8033-8217-405f-89f6-a1098816ff04",
   "metadata": {},
   "outputs": [
    {
     "data": {
      "text/plain": [
       "Salary\n",
       "10000    1\n",
       "20000    1\n",
       "30000    1\n",
       "40000    1\n",
       "Name: count, dtype: int64"
      ]
     },
     "execution_count": 90,
     "metadata": {},
     "output_type": "execute_result"
    }
   ],
   "source": [
    "#Counting the no. of unique values not removing null values\n",
    "df['Salary'].value_counts(dropna=False)"
   ]
  },
  {
   "cell_type": "code",
   "execution_count": 91,
   "id": "d9536231-34fa-42d5-8f4d-2710fbbc0aae",
   "metadata": {},
   "outputs": [
    {
     "data": {
      "text/html": [
       "<div>\n",
       "<style scoped>\n",
       "    .dataframe tbody tr th:only-of-type {\n",
       "        vertical-align: middle;\n",
       "    }\n",
       "\n",
       "    .dataframe tbody tr th {\n",
       "        vertical-align: top;\n",
       "    }\n",
       "\n",
       "    .dataframe thead th {\n",
       "        text-align: right;\n",
       "    }\n",
       "</style>\n",
       "<table border=\"1\" class=\"dataframe\">\n",
       "  <thead>\n",
       "    <tr style=\"text-align: right;\">\n",
       "      <th></th>\n",
       "      <th>Name</th>\n",
       "      <th>Salary</th>\n",
       "      <th>ID</th>\n",
       "    </tr>\n",
       "  </thead>\n",
       "  <tbody>\n",
       "    <tr>\n",
       "      <th>0</th>\n",
       "      <td>True</td>\n",
       "      <td>True</td>\n",
       "      <td>True</td>\n",
       "    </tr>\n",
       "    <tr>\n",
       "      <th>1</th>\n",
       "      <td>True</td>\n",
       "      <td>True</td>\n",
       "      <td>True</td>\n",
       "    </tr>\n",
       "    <tr>\n",
       "      <th>2</th>\n",
       "      <td>True</td>\n",
       "      <td>True</td>\n",
       "      <td>True</td>\n",
       "    </tr>\n",
       "    <tr>\n",
       "      <th>3</th>\n",
       "      <td>True</td>\n",
       "      <td>True</td>\n",
       "      <td>True</td>\n",
       "    </tr>\n",
       "  </tbody>\n",
       "</table>\n",
       "</div>"
      ],
      "text/plain": [
       "   Name  Salary    ID\n",
       "0  True    True  True\n",
       "1  True    True  True\n",
       "2  True    True  True\n",
       "3  True    True  True"
      ]
     },
     "execution_count": 91,
     "metadata": {},
     "output_type": "execute_result"
    }
   ],
   "source": [
    "#Checking there are not any null values in the dataframe\n",
    "df.notnull()"
   ]
  },
  {
   "cell_type": "code",
   "execution_count": 93,
   "id": "42ee91ad-f951-4df0-9675-7e45b94e766b",
   "metadata": {},
   "outputs": [
    {
     "data": {
      "text/plain": [
       "<bound method DataFrame.corr of      Name  Salary   ID\n",
       "0   Rocky   10000  123\n",
       "1  Alisha   20000  456\n",
       "2    john   30000  123\n",
       "3   Rocky   40000  963>"
      ]
     },
     "execution_count": 93,
     "metadata": {},
     "output_type": "execute_result"
    }
   ],
   "source": [
    "#Computes correlation matrix\n",
    "df.corr"
   ]
  }
 ],
 "metadata": {
  "kernelspec": {
   "display_name": "Python 3 (ipykernel)",
   "language": "python",
   "name": "python3"
  },
  "language_info": {
   "codemirror_mode": {
    "name": "ipython",
    "version": 3
   },
   "file_extension": ".py",
   "mimetype": "text/x-python",
   "name": "python",
   "nbconvert_exporter": "python",
   "pygments_lexer": "ipython3",
   "version": "3.12.4"
  }
 },
 "nbformat": 4,
 "nbformat_minor": 5
}
