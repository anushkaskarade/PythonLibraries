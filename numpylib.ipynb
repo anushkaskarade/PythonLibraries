{
 "cells": [
  {
   "cell_type": "markdown",
   "id": "c543c3d7-ccf9-41f7-9c2b-5784b82508ff",
   "metadata": {},
   "source": [
    "#Creating an array in python using numpy"
   ]
  },
  {
   "cell_type": "code",
   "execution_count": 4,
   "id": "db1f4525-d901-4a51-8b52-d83484963533",
   "metadata": {
    "scrolled": true
   },
   "outputs": [
    {
     "name": "stdout",
     "output_type": "stream",
     "text": [
      "[3 6 5 7 9]\n"
     ]
    }
   ],
   "source": [
    "import numpy as np\n",
    "arr=np.array([3,6,5,7,9])\n",
    "print(arr)"
   ]
  },
  {
   "cell_type": "code",
   "execution_count": 2,
   "id": "74bc0acb-e390-485b-9aed-03b3f7651240",
   "metadata": {},
   "outputs": [
    {
     "data": {
      "text/plain": [
       "np.int64(3)"
      ]
     },
     "execution_count": 2,
     "metadata": {},
     "output_type": "execute_result"
    }
   ],
   "source": [
    "#Indexing\n",
    "arr[0]"
   ]
  },
  {
   "cell_type": "markdown",
   "id": "3a093591-5421-4392-9436-a7a24b390b27",
   "metadata": {},
   "source": [
    "#printing shape of array"
   ]
  },
  {
   "cell_type": "code",
   "execution_count": 5,
   "id": "a52413ae-c49f-416a-9532-b6892270387b",
   "metadata": {},
   "outputs": [
    {
     "data": {
      "text/plain": [
       "dtype('int64')"
      ]
     },
     "execution_count": 5,
     "metadata": {},
     "output_type": "execute_result"
    }
   ],
   "source": [
    "arr.shape"
   ]
  },
  {
   "cell_type": "code",
   "execution_count": 7,
   "id": "ef27f3f1-1d8e-4dcb-8e50-009e10205d88",
   "metadata": {},
   "outputs": [
    {
     "name": "stdout",
     "output_type": "stream",
     "text": [
      "[ 3  6 25  7  9]\n"
     ]
    }
   ],
   "source": [
    "arr.dtype\n",
    "arr[2]=25\n",
    "print(arr)"
   ]
  },
  {
   "cell_type": "markdown",
   "id": "f091f992-59dc-4350-afc9-da0d9e58a52a",
   "metadata": {},
   "source": [
    "#Intrinsic Numpy Array Creation"
   ]
  },
  {
   "cell_type": "code",
   "execution_count": 8,
   "id": "f180d512-92d7-471f-a216-b5774c4abfbd",
   "metadata": {},
   "outputs": [
    {
     "name": "stdout",
     "output_type": "stream",
     "text": [
      "[[0. 0. 0. 0. 0.]\n",
      " [0. 0. 0. 0. 0.]]\n"
     ]
    }
   ],
   "source": [
    "zero=np.zeros([2,5])\n",
    "print(zero)"
   ]
  },
  {
   "cell_type": "code",
   "execution_count": 10,
   "id": "61c444eb-e795-47c7-bea9-188892ab20a5",
   "metadata": {},
   "outputs": [
    {
     "data": {
      "text/plain": [
       "(2, 5)"
      ]
     },
     "execution_count": 10,
     "metadata": {},
     "output_type": "execute_result"
    }
   ],
   "source": [
    "zero.shape"
   ]
  },
  {
   "cell_type": "code",
   "execution_count": 11,
   "id": "a8788c63-83f3-4757-8e32-39dd94b9543b",
   "metadata": {},
   "outputs": [
    {
     "data": {
      "text/plain": [
       "dtype('float64')"
      ]
     },
     "execution_count": 11,
     "metadata": {},
     "output_type": "execute_result"
    }
   ],
   "source": [
    "zero.dtype"
   ]
  },
  {
   "cell_type": "code",
   "execution_count": 15,
   "id": "3b8174b2-cf7a-4f14-9c1f-eefb3d374219",
   "metadata": {},
   "outputs": [
    {
     "name": "stdout",
     "output_type": "stream",
     "text": [
      "[0 1 2 3 4 5 6 7 8 9]\n"
     ]
    }
   ],
   "source": [
    "range=np.arange(10)\n",
    "print(range)"
   ]
  },
  {
   "cell_type": "code",
   "execution_count": 17,
   "id": "088286ad-0f72-4332-9e1d-57dd4ac00fdd",
   "metadata": {},
   "outputs": [
    {
     "name": "stdout",
     "output_type": "stream",
     "text": [
      "[ 1.          3.11111111  5.22222222  7.33333333  9.44444444 11.55555556\n",
      " 13.66666667 15.77777778 17.88888889 20.        ]\n"
     ]
    }
   ],
   "source": [
    "s=np.linspace(1,20,10)\n",
    "print(s)"
   ]
  },
  {
   "cell_type": "code",
   "execution_count": 19,
   "id": "eb65b6c0-9ff8-4e02-bfdd-f7f71b76c3ef",
   "metadata": {},
   "outputs": [
    {
     "name": "stdout",
     "output_type": "stream",
     "text": [
      "[[4.67296746e-307 1.69121096e-306 1.86921143e-306 7.56597770e-307]\n",
      " [1.42419938e-306 7.56603881e-307 8.45603440e-307 4.45046008e-307]]\n"
     ]
    }
   ],
   "source": [
    "e=np.empty((2,4))\n",
    "print(e)"
   ]
  },
  {
   "cell_type": "code",
   "execution_count": 23,
   "id": "49e9ed0f-1558-48c7-8b4c-0623ffca4b8e",
   "metadata": {},
   "outputs": [
    {
     "name": "stdout",
     "output_type": "stream",
     "text": [
      "[[1. 0. 0. 0. 0.]\n",
      " [0. 1. 0. 0. 0.]\n",
      " [0. 0. 1. 0. 0.]\n",
      " [0. 0. 0. 1. 0.]\n",
      " [0. 0. 0. 0. 1.]]\n"
     ]
    }
   ],
   "source": [
    "#Printing identity matrix\n",
    "imatrix=np.identity(5)\n",
    "print(imatrix)"
   ]
  },
  {
   "cell_type": "code",
   "execution_count": 25,
   "id": "9167bea9-c8f9-427e-b492-6cce0919a512",
   "metadata": {},
   "outputs": [
    {
     "name": "stdout",
     "output_type": "stream",
     "text": [
      "[[2 5 1]\n",
      " [8 7 6]]\n"
     ]
    }
   ],
   "source": [
    "#Reshape the size of array\n",
    "a=np.array([[2,5,1],\n",
    "           [8,7,6]])\n",
    "a.reshape(3,2)\n",
    "print(a)"
   ]
  },
  {
   "cell_type": "code",
   "execution_count": 6,
   "id": "c0690146-eb67-4ec1-8e0e-f225bdbd944c",
   "metadata": {},
   "outputs": [
    {
     "name": "stdout",
     "output_type": "stream",
     "text": [
      "[2 5 1 8 7 6]\n"
     ]
    }
   ],
   "source": [
    "#Makes one-dimensional array\n",
    "a=np.array([[2,5,1],\n",
    "           [8,7,6]])\n",
    "b=a.ravel()\n",
    "print(b)"
   ]
  },
  {
   "cell_type": "code",
   "execution_count": 47,
   "id": "78e7af8f-b24a-43d1-8270-1942dc0bf741",
   "metadata": {},
   "outputs": [
    {
     "name": "stdout",
     "output_type": "stream",
     "text": [
      "[12 15 16]\n",
      "[17 17  9]\n",
      "43\n"
     ]
    }
   ],
   "source": [
    "#Printing the sum of array elements according to axis\n",
    "arr=np.array([[2,8,7],[7 ,6,4],[3,1,5]])\n",
    "s=arr.sum(axis=0)\n",
    "print(s)\n",
    "s=arr.sum(axis=1)\n",
    "print(s)\n",
    "s=arr.sum()#It returns the sum of all array elements\n",
    "print(s)"
   ]
  },
  {
   "cell_type": "code",
   "execution_count": 8,
   "id": "8cb8a204-9f18-4bf5-b2c1-6a1789586fcd",
   "metadata": {},
   "outputs": [
    {
     "name": "stdout",
     "output_type": "stream",
     "text": [
      "[[2 7 3]\n",
      " [8 6 1]\n",
      " [7 4 5]]\n"
     ]
    }
   ],
   "source": [
    "#Printing transpose of the matrix\n",
    "T=arr.T\n",
    "print(T)"
   ]
  },
  {
   "cell_type": "code",
   "execution_count": 23,
   "id": "c2888b43-fcb4-448d-85d2-7b84c7381fda",
   "metadata": {},
   "outputs": [
    {
     "data": {
      "text/plain": [
       "2"
      ]
     },
     "execution_count": 23,
     "metadata": {},
     "output_type": "execute_result"
    }
   ],
   "source": [
    "#Printing dimensions of matrix\n",
    "arr=np.array([[2,8,7],[7 ,6,4],[3,1,5],[5,0,1]])\n",
    "arr.ndim"
   ]
  },
  {
   "cell_type": "code",
   "execution_count": 20,
   "id": "23667987-0cde-4b66-bef4-aa676adf1dec",
   "metadata": {},
   "outputs": [
    {
     "data": {
      "text/plain": [
       "12"
      ]
     },
     "execution_count": 20,
     "metadata": {},
     "output_type": "execute_result"
    }
   ],
   "source": [
    "#Gives size of an array\n",
    "arr.size"
   ]
  },
  {
   "cell_type": "code",
   "execution_count": 21,
   "id": "15072d30-fa6e-4955-b6ba-96a983d0f7a6",
   "metadata": {},
   "outputs": [
    {
     "data": {
      "text/plain": [
       "96"
      ]
     },
     "execution_count": 21,
     "metadata": {},
     "output_type": "execute_result"
    }
   ],
   "source": [
    "#Printing total bytes consumed by an array\n",
    "arr.nbytes"
   ]
  },
  {
   "cell_type": "code",
   "execution_count": 27,
   "id": "ea8bfb1b-d222-4e1b-90fa-5f16dfc07796",
   "metadata": {},
   "outputs": [
    {
     "data": {
      "text/plain": [
       "np.int64(3)"
      ]
     },
     "execution_count": 27,
     "metadata": {},
     "output_type": "execute_result"
    }
   ],
   "source": [
    "#Returns the index having greatest value in an array\n",
    "arr=np.array([10,20,15,30,25])\n",
    "arr.argmax()"
   ]
  },
  {
   "cell_type": "code",
   "execution_count": 28,
   "id": "fabef217-2ef4-4654-8bb6-3f3812414201",
   "metadata": {},
   "outputs": [
    {
     "data": {
      "text/plain": [
       "np.int64(0)"
      ]
     },
     "execution_count": 28,
     "metadata": {},
     "output_type": "execute_result"
    }
   ],
   "source": [
    "#Returns the index having smallest value in an array\n",
    "arr.argmin()"
   ]
  },
  {
   "cell_type": "code",
   "execution_count": 29,
   "id": "db793958-2bd0-4269-ba56-d8f4c0c90230",
   "metadata": {},
   "outputs": [
    {
     "data": {
      "text/plain": [
       "array([0, 2, 1, 4, 3])"
      ]
     },
     "execution_count": 29,
     "metadata": {},
     "output_type": "execute_result"
    }
   ],
   "source": [
    "#Returns the indices of array by sorting it\n",
    "arr.argsort()"
   ]
  },
  {
   "cell_type": "code",
   "execution_count": 32,
   "id": "c67d3326-5629-49fc-8f65-b385b2bb9035",
   "metadata": {},
   "outputs": [
    {
     "data": {
      "text/plain": [
       "array([2, 2, 2])"
      ]
     },
     "execution_count": 32,
     "metadata": {},
     "output_type": "execute_result"
    }
   ],
   "source": [
    "#printing the index of maximum or minimum array element of all axis 0 or 1\n",
    "arr=np.array([[1,2,3],[4,5,6],[7,8,9]])\n",
    "arr.argmax(axis=0)"
   ]
  },
  {
   "cell_type": "code",
   "execution_count": 33,
   "id": "5315c189-b260-4519-9802-a8d26e454c4f",
   "metadata": {},
   "outputs": [
    {
     "data": {
      "text/plain": [
       "array([0, 0, 0])"
      ]
     },
     "execution_count": 33,
     "metadata": {},
     "output_type": "execute_result"
    }
   ],
   "source": [
    "arr.argmin(axis=1)"
   ]
  },
  {
   "cell_type": "code",
   "execution_count": 34,
   "id": "80b2f937-6366-4abf-a260-6dfb3a5633a5",
   "metadata": {},
   "outputs": [
    {
     "data": {
      "text/plain": [
       "array([[0, 1, 2],\n",
       "       [0, 1, 2],\n",
       "       [0, 1, 2]])"
      ]
     },
     "execution_count": 34,
     "metadata": {},
     "output_type": "execute_result"
    }
   ],
   "source": [
    "#Print the index of sorted array\n",
    "arr.argsort(axis=1)"
   ]
  },
  {
   "cell_type": "code",
   "execution_count": 36,
   "id": "572b1e46-568c-4e83-909d-9526f48f30a5",
   "metadata": {},
   "outputs": [
    {
     "data": {
      "text/plain": [
       "array([1, 2, 3, 4, 5, 6, 7, 8, 9])"
      ]
     },
     "execution_count": 36,
     "metadata": {},
     "output_type": "execute_result"
    }
   ],
   "source": [
    "#Convert into one-dimensional array\n",
    "arr.ravel()"
   ]
  },
  {
   "cell_type": "code",
   "execution_count": 41,
   "id": "8e920b5e-f317-4b2b-a1fa-6f18df57bad6",
   "metadata": {},
   "outputs": [
    {
     "name": "stdout",
     "output_type": "stream",
     "text": [
      "[[ 9  7  6]\n",
      " [10  9  8]\n",
      " [ 9 18 14]]\n",
      "[[-7 -3  2]\n",
      " [-4  1  6]\n",
      " [ 3  0  2]]\n",
      "[[ 8 10  8]\n",
      " [21 20  7]\n",
      " [18 81 48]]\n",
      "[[0.125      0.4        2.        ]\n",
      " [0.42857143 1.25       7.        ]\n",
      " [2.         1.         1.33333333]]\n"
     ]
    }
   ],
   "source": [
    "#Arithmetic operations of the array\n",
    "ar1=np.array([[1,2,4],[3,5,7],[6,9,8]])\n",
    "ar2=np.array([[8,5,2],[7,4,1],[3,9,6]])\n",
    "ar3=ar1+ar2\n",
    "print(ar3)\n",
    "ar3=ar1-ar2\n",
    "print(ar3)\n",
    "ar3=ar1*ar2\n",
    "print(ar3)\n",
    "ar3=ar1/ar2\n",
    "print(ar3)"
   ]
  },
  {
   "cell_type": "code",
   "execution_count": 46,
   "id": "ea0d1039-8a59-4658-8a8a-e21d64144392",
   "metadata": {},
   "outputs": [
    {
     "name": "stdout",
     "output_type": "stream",
     "text": [
      "[[1. 4.]\n",
      " [2. 3.]]\n"
     ]
    }
   ],
   "source": [
    "#Square root of an array\n",
    "arr=np.array([[1,16],[4,9]])\n",
    "sqrt=np.sqrt(arr)\n",
    "print(sqrt)"
   ]
  },
  {
   "cell_type": "code",
   "execution_count": 49,
   "id": "b7a4b442-b973-4d18-948d-ddbc5beb8d9f",
   "metadata": {},
   "outputs": [
    {
     "data": {
      "text/plain": [
       "(array([0, 1, 2, 2]), array([0, 0, 1, 2]))"
      ]
     },
     "execution_count": 49,
     "metadata": {},
     "output_type": "execute_result"
    }
   ],
   "source": [
    "#Print the index of array elements according to condition\n",
    "arr=np.array([[8,5,2],[7,4,1],[3,9,6]])\n",
    "np.where(arr>5)"
   ]
  },
  {
   "cell_type": "code",
   "execution_count": 50,
   "id": "fe5aa3e3-076c-4cdc-a62f-264957eff465",
   "metadata": {},
   "outputs": [
    {
     "data": {
      "text/plain": [
       "9"
      ]
     },
     "execution_count": 50,
     "metadata": {},
     "output_type": "execute_result"
    }
   ],
   "source": [
    "#Gives the count of elements which are greater than zero\n",
    "np.count_nonzero(arr)"
   ]
  },
  {
   "cell_type": "code",
   "execution_count": 3,
   "id": "c064656b-fa31-427c-b741-511e2b3412e8",
   "metadata": {},
   "outputs": [
    {
     "data": {
      "text/plain": [
       "112"
      ]
     },
     "execution_count": 3,
     "metadata": {},
     "output_type": "execute_result"
    }
   ],
   "source": [
    "import sys\n",
    "import numpy as np\n",
    "py_ar=[0,4,55,2]\n",
    "np_ar=np.array(py_ar)\n",
    "sys.getsizeof(1)*len(py_ar)"
   ]
  },
  {
   "cell_type": "code",
   "execution_count": null,
   "id": "702969f5-fc7e-48f7-b7b8-c5edb85fe1b5",
   "metadata": {},
   "outputs": [],
   "source": []
  }
 ],
 "metadata": {
  "kernelspec": {
   "display_name": "Python 3 (ipykernel)",
   "language": "python",
   "name": "python3"
  },
  "language_info": {
   "codemirror_mode": {
    "name": "ipython",
    "version": 3
   },
   "file_extension": ".py",
   "mimetype": "text/x-python",
   "name": "python",
   "nbconvert_exporter": "python",
   "pygments_lexer": "ipython3",
   "version": "3.12.4"
  }
 },
 "nbformat": 4,
 "nbformat_minor": 5
}
